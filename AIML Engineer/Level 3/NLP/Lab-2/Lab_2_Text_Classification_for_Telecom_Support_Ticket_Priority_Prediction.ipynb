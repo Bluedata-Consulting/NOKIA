{
  "nbformat": 4,
  "nbformat_minor": 0,
  "metadata": {
    "colab": {
      "provenance": [],
      "gpuType": "T4"
    },
    "kernelspec": {
      "name": "python3",
      "display_name": "Python 3"
    },
    "language_info": {
      "name": "python"
    },
    "accelerator": "GPU"
  },
  "cells": [
    {
      "cell_type": "markdown",
      "source": [
        "# Lab 2: Text Classification with Python\n"
      ],
      "metadata": {
        "id": "eIVbjSOkMpiD"
      }
    },
    {
      "cell_type": "markdown",
      "source": [
        "# Laboratory Session: Text Classification with SMS Spam Detection Dataset\n",
        "\n",
        "## Objectives\n",
        "This laboratory session aims to provide hands-on experience with text preprocessing, vectorization, and classification techniques using a real-world SMS spam detection dataset. Students will:\n",
        "\n",
        "- Learn and implement text preprocessing and cleaning.\n",
        "- Explore various text vectorization techniques.\n",
        "- Understand and apply TF-IDF transformation.\n",
        "- Build and evaluate text classification models.\n",
        "- Analyze model performance and make improvements.\n",
        "\n",
        "## Dataset Information\n",
        "- **Dataset**: SMS Spam Collection Dataset\n",
        "- **Source**: `SPAM text message 20170820 Data.csv`\n",
        "- **Total Samples**: 5,572 messages\n",
        "\n",
        "### Features\n",
        "- **Category**: Message label (`spam`/`ham`).\n",
        "- **Message**: Text content of the SMS.\n",
        "\n",
        "---\n",
        "\n",
        "## Tasks to be Performed\n",
        "\n",
        "### 1. Data Loading and Exploration\n",
        "- Load and examine the dataset.\n",
        "- Perform initial statistical analysis.\n",
        "- Visualize data distribution.\n",
        "\n",
        "### 2. Text Preprocessing\n",
        "- Implement text cleaning.\n",
        "- Handle special characters and numbers.\n",
        "- Perform tokenization.\n",
        "- Remove stopwords.\n",
        "- Apply lemmatization.\n",
        "\n",
        "### 3. Text Vectorization\n",
        "- Implement Bag of Words (CountVectorizer).\n",
        "- Implement TF-IDF Vectorization.\n",
        "- Explore and implement n-grams.\n",
        "- Compare different vectorization approaches.\n",
        "\n",
        "### 4. Model Implementation\n",
        "- Split data into training and testing sets.\n",
        "- Implement Naive Bayes Classifier.\n",
        "- Train and evaluate the model.\n",
        "- Analyze model performance."
      ],
      "metadata": {
        "id": "XxzJtON8M6i_"
      }
    },
    {
      "cell_type": "code",
      "source": [
        "# Import necessary libraries\n",
        "import pandas as pd\n",
        "import numpy as np\n",
        "import matplotlib.pyplot as plt\n",
        "import seaborn as sns\n",
        "from sklearn.model_selection import train_test_split\n",
        "from sklearn.feature_extraction.text import CountVectorizer, TfidfVectorizer\n",
        "from sklearn.naive_bayes import MultinomialNB\n",
        "from sklearn.metrics import classification_report, confusion_matrix\n",
        "import re\n",
        "import nltk\n",
        "from nltk.corpus import stopwords\n",
        "from nltk.tokenize import word_tokenize\n",
        "from nltk.stem import WordNetLemmatizer"
      ],
      "metadata": {
        "id": "udLvlDndMcsP"
      },
      "execution_count": 65,
      "outputs": []
    },
    {
      "cell_type": "code",
      "source": [
        "# Download required NLTK data\n",
        "nltk.download('punkt_tab')\n",
        "nltk.download('stopwords')\n",
        "nltk.download('wordnet')\n"
      ],
      "metadata": {
        "colab": {
          "base_uri": "https://localhost:8080/"
        },
        "id": "JRBkQkzNMcqE",
        "outputId": "f231ea52-b656-4f5f-e61f-2889cb58df2b"
      },
      "execution_count": 66,
      "outputs": [
        {
          "output_type": "stream",
          "name": "stderr",
          "text": [
            "[nltk_data] Downloading package punkt_tab to /root/nltk_data...\n",
            "[nltk_data]   Package punkt_tab is already up-to-date!\n",
            "[nltk_data] Downloading package stopwords to /root/nltk_data...\n",
            "[nltk_data]   Package stopwords is already up-to-date!\n",
            "[nltk_data] Downloading package wordnet to /root/nltk_data...\n",
            "[nltk_data]   Package wordnet is already up-to-date!\n"
          ]
        },
        {
          "output_type": "execute_result",
          "data": {
            "text/plain": [
              "True"
            ]
          },
          "metadata": {},
          "execution_count": 66
        }
      ]
    },
    {
      "cell_type": "markdown",
      "source": [
        "### 1. Data Loading and Exploration\n"
      ],
      "metadata": {
        "id": "WrOjteDyU0nk"
      }
    },
    {
      "cell_type": "code",
      "source": [
        "# Load the dataset\n",
        "df = pd.read_csv('/content/SPAM text message 20170820 - Data.csv')"
      ],
      "metadata": {
        "id": "6bjvAj8oMcln"
      },
      "execution_count": 67,
      "outputs": []
    },
    {
      "cell_type": "code",
      "source": [
        "# Display basic information about the dataset\n",
        "print(\"Dataset Shape:\", df.shape)\n",
        "print(\"\\nFirst few rows of the dataset:\")\n",
        "print(df.head())\n",
        "print(\"\\nDataset Info:\")\n",
        "df.info()"
      ],
      "metadata": {
        "colab": {
          "base_uri": "https://localhost:8080/"
        },
        "id": "1RgyF8yNMcjD",
        "outputId": "a8b17a58-bf1a-44ea-e868-02728da6faec"
      },
      "execution_count": 68,
      "outputs": [
        {
          "output_type": "stream",
          "name": "stdout",
          "text": [
            "Dataset Shape: (5572, 2)\n",
            "\n",
            "First few rows of the dataset:\n",
            "  Category                                            Message\n",
            "0      ham  Go until jurong point, crazy.. Available only ...\n",
            "1      ham                      Ok lar... Joking wif u oni...\n",
            "2     spam  Free entry in 2 a wkly comp to win FA Cup fina...\n",
            "3      ham  U dun say so early hor... U c already then say...\n",
            "4      ham  Nah I don't think he goes to usf, he lives aro...\n",
            "\n",
            "Dataset Info:\n",
            "<class 'pandas.core.frame.DataFrame'>\n",
            "RangeIndex: 5572 entries, 0 to 5571\n",
            "Data columns (total 2 columns):\n",
            " #   Column    Non-Null Count  Dtype \n",
            "---  ------    --------------  ----- \n",
            " 0   Category  5572 non-null   object\n",
            " 1   Message   5572 non-null   object\n",
            "dtypes: object(2)\n",
            "memory usage: 87.2+ KB\n"
          ]
        }
      ]
    },
    {
      "cell_type": "code",
      "source": [
        "# Check class distribution\n",
        "class_distribution = df['Category'].value_counts()\n",
        "print(\"\\nClass Distribution:\")\n",
        "print(class_distribution)\n",
        "print(\"\\nClass Distribution (Percentage):\")\n",
        "print(df['Category'].value_counts(normalize=True) * 100)"
      ],
      "metadata": {
        "colab": {
          "base_uri": "https://localhost:8080/"
        },
        "id": "aFW6x2PhMcge",
        "outputId": "f06cb850-9366-4d14-9316-7eb32a29d9d8"
      },
      "execution_count": 69,
      "outputs": [
        {
          "output_type": "stream",
          "name": "stdout",
          "text": [
            "\n",
            "Class Distribution:\n",
            "Category\n",
            "ham     4825\n",
            "spam     747\n",
            "Name: count, dtype: int64\n",
            "\n",
            "Class Distribution (Percentage):\n",
            "Category\n",
            "ham     86.593683\n",
            "spam    13.406317\n",
            "Name: proportion, dtype: float64\n"
          ]
        }
      ]
    },
    {
      "cell_type": "code",
      "source": [
        "\n",
        "# Visualize class distribution\n",
        "plt.figure(figsize=(8, 6))\n",
        "sns.countplot(data=df, x='Category')\n",
        "plt.title('Distribution of Message Categories')\n",
        "plt.xlabel('Category')\n",
        "plt.ylabel('Count')\n",
        "plt.show()"
      ],
      "metadata": {
        "colab": {
          "base_uri": "https://localhost:8080/",
          "height": 564
        },
        "id": "O6MOM3rWMcd1",
        "outputId": "58adb12a-9edd-473c-8e73-54a6b48162e0"
      },
      "execution_count": 70,
      "outputs": [
        {
          "output_type": "display_data",
          "data": {
            "text/plain": [
              "<Figure size 800x600 with 1 Axes>"
            ],
            "image/png": "[encoded data removed]"
          },
          "metadata": {}
        }
      ]
    },
    {
      "cell_type": "code",
      "source": [
        "# Basic text analysis\n",
        "df['message_length'] = df['Message'].apply(len)\n",
        "print(\"\\nMessage Length Statistics:\")\n",
        "print(df.groupby('Category')['message_length'].describe())"
      ],
      "metadata": {
        "colab": {
          "base_uri": "https://localhost:8080/"
        },
        "id": "s_gUJYKFMcbV",
        "outputId": "c2c56e8e-98c8-4c81-a855-f9802cf275b0"
      },
      "execution_count": 71,
      "outputs": [
        {
          "output_type": "stream",
          "name": "stdout",
          "text": [
            "\n",
            "Message Length Statistics:\n",
            "           count       mean        std  min    25%    50%    75%    max\n",
            "Category                                                               \n",
            "ham       4825.0   71.44829  58.434864  2.0   33.0   52.0   93.0  910.0\n",
            "spam       747.0  137.98929  29.980287  7.0  132.0  149.0  157.0  223.0\n"
          ]
        }
      ]
    },
    {
      "cell_type": "code",
      "source": [
        "# Visualize message length distribution by category\n",
        "plt.figure(figsize=(10, 6))\n",
        "sns.boxplot(data=df, x='Category', y='message_length')\n",
        "plt.title('Message Length Distribution by Category')\n",
        "plt.xlabel('Category')\n",
        "plt.ylabel('Message Length')\n",
        "plt.show()"
      ],
      "metadata": {
        "colab": {
          "base_uri": "https://localhost:8080/",
          "height": 564
        },
        "id": "FJvAeHJJN09s",
        "outputId": "0eb4d7b9-0b16-499f-b804-a1142c21e2c4"
      },
      "execution_count": 72,
      "outputs": [
        {
          "output_type": "display_data",
          "data": {
            "text/plain": [
              "<Figure size 1000x600 with 1 Axes>"
            ],
            "image/png": "[encoded data removed]"
          },
          "metadata": {}
        }
      ]
    },
    {
      "cell_type": "code",
      "source": [
        "# Display some example messages from each category\n",
        "print(\"\\nExample Ham Messages:\")\n",
        "print(df[df['Category'] == 'ham']['Message'].head(3))\n",
        "print(\"\\nExample Spam Messages:\")\n",
        "print(df[df['Category'] == 'spam']['Message'].head(3))\n"
      ],
      "metadata": {
        "colab": {
          "base_uri": "https://localhost:8080/"
        },
        "id": "_9JWIJnhN8FZ",
        "outputId": "e7662d18-1ac8-40c2-e5ad-65a3c1c4c99c"
      },
      "execution_count": 74,
      "outputs": [
        {
          "output_type": "stream",
          "name": "stdout",
          "text": [
            "\n",
            "Example Ham Messages:\n",
            "0    Go until jurong point, crazy.. Available only ...\n",
            "1                        Ok lar... Joking wif u oni...\n",
            "3    U dun say so early hor... U c already then say...\n",
            "Name: Message, dtype: object\n",
            "\n",
            "Example Spam Messages:\n",
            "2    Free entry in 2 a wkly comp to win FA Cup fina...\n",
            "5    FreeMsg Hey there darling it's been 3 week's n...\n",
            "8    WINNER!! As a valued network customer you have...\n",
            "Name: Message, dtype: object\n"
          ]
        }
      ]
    },
    {
      "cell_type": "code",
      "source": [
        "# Get most common words in each category\n",
        "from collections import Counter\n",
        "import string\n",
        "\n",
        "def get_words(text):\n",
        "    # Convert to lowercase and split into words\n",
        "    words = text.lower().split()\n",
        "    # Remove punctuation from each word\n",
        "    table = str.maketrans('', '', string.punctuation)\n",
        "    stripped = [w.translate(table) for w in words]\n",
        "    # Remove remaining tokens that are not alphabetic\n",
        "    words = [word for word in stripped if word.isalpha()]\n",
        "    return words\n",
        "\n",
        "# Get common words for each category\n",
        "ham_words = []\n",
        "spam_words = []\n",
        "\n",
        "for message in df[df['Category'] == 'ham']['Message']:\n",
        "    ham_words.extend(get_words(message))\n",
        "\n",
        "for message in df[df['Category'] == 'spam']['Message']:\n",
        "    spam_words.extend(get_words(message))\n",
        "\n",
        "print(\"\\nTop 10 most common words in Ham messages:\")\n",
        "print(Counter(ham_words).most_common(10))\n",
        "\n",
        "print(\"\\nTop 10 most common words in Spam messages:\")\n",
        "print(Counter(spam_words).most_common(10))"
      ],
      "metadata": {
        "colab": {
          "base_uri": "https://localhost:8080/"
        },
        "id": "EZGvQuHwOCU0",
        "outputId": "98b34989-e6a1-4efc-ac8c-703dd715970f"
      },
      "execution_count": 75,
      "outputs": [
        {
          "output_type": "stream",
          "name": "stdout",
          "text": [
            "\n",
            "Top 10 most common words in Ham messages:\n",
            "[('i', 2194), ('you', 1841), ('to', 1562), ('the', 1129), ('a', 1064), ('u', 985), ('and', 849), ('in', 815), ('me', 761), ('my', 747)]\n",
            "\n",
            "Top 10 most common words in Spam messages:\n",
            "[('to', 686), ('a', 378), ('call', 344), ('you', 287), ('your', 263), ('free', 216), ('for', 203), ('the', 201), ('now', 189), ('or', 188)]\n"
          ]
        }
      ]
    },
    {
      "cell_type": "code",
      "source": [],
      "metadata": {
        "id": "zcP_zFSdONwn"
      },
      "execution_count": null,
      "outputs": []
    },
    {
      "cell_type": "markdown",
      "source": [
        "### 2. Text Preprocessing"
      ],
      "metadata": {
        "id": "S1tRA-z_U6os"
      }
    },
    {
      "cell_type": "code",
      "source": [
        "def preprocess_text(text):\n",
        "    \"\"\"\n",
        "    Preprocesses text data for classification.\n",
        "    Steps: lowercase, remove special chars, tokenize, remove stopwords, lemmatize\n",
        "    \"\"\"\n",
        "    # Convert to lowercase\n",
        "    text = str(text).lower()\n",
        "\n",
        "    # Remove special characters and numbers\n",
        "    text = re.sub(r'[^a-zA-Z\\s]', '', text)\n",
        "\n",
        "    # Tokenization\n",
        "    tokens = word_tokenize(text)\n",
        "\n",
        "    # Remove stopwords (keeping some important ones for spam detection)\n",
        "    stop_words = set(stopwords.words('english')) - {'free', 'call', 'now', 'txt', 'text'}\n",
        "    tokens = [token for token in tokens if token not in stop_words]\n",
        "\n",
        "    # Lemmatization\n",
        "    lemmatizer = WordNetLemmatizer()\n",
        "    tokens = [lemmatizer.lemmatize(token) for token in tokens]\n",
        "\n",
        "    return ' '.join(tokens)\n"
      ],
      "metadata": {
        "id": "cfKbAoKtO-i4"
      },
      "execution_count": 76,
      "outputs": []
    },
    {
      "cell_type": "code",
      "source": [
        "# Apply preprocessing to messages\n",
        "print(\"Starting text preprocessing...\")\n",
        "df['processed_text'] = df['Message'].apply(preprocess_text)\n",
        "\n",
        "print(\"\\nShowing examples of preprocessed messages:\")\n",
        "print(df[['Category', 'Message', 'processed_text']].head())"
      ],
      "metadata": {
        "colab": {
          "base_uri": "https://localhost:8080/"
        },
        "id": "2LRPLGWqVYMS",
        "outputId": "2bd8431f-948c-4ed0-b3af-38c3237af45e"
      },
      "execution_count": 106,
      "outputs": [
        {
          "output_type": "stream",
          "name": "stdout",
          "text": [
            "Starting text preprocessing...\n",
            "\n",
            "Showing examples of preprocessed messages:\n",
            "  Category                                            Message  \\\n",
            "0      ham  Go until jurong point, crazy.. Available only ...   \n",
            "1      ham                      Ok lar... Joking wif u oni...   \n",
            "2     spam  Free entry in 2 a wkly comp to win FA Cup fina...   \n",
            "3      ham  U dun say so early hor... U c already then say...   \n",
            "4      ham  Nah I don't think he goes to usf, he lives aro...   \n",
            "\n",
            "                                      processed_text  \n",
            "0  go jurong point crazy available bugis n great ...  \n",
            "1                            ok lar joking wif u oni  \n",
            "2  free entry wkly comp win fa cup final tkts st ...  \n",
            "3                u dun say early hor u c already say  \n",
            "4           nah dont think go usf life around though  \n"
          ]
        }
      ]
    },
    {
      "cell_type": "markdown",
      "source": [
        "### 3. Text Vectorization\n"
      ],
      "metadata": {
        "id": "NT9sjIvmVMb6"
      }
    },
    {
      "cell_type": "code",
      "source": [
        "# Implementing Bag of Words vectorization\n",
        "print(\"\\nImplementing Bag of Words vectorization...\")\n",
        "count_vectorizer = CountVectorizer(\n",
        "    ngram_range=(1, 2),  # Include both unigrams and bigrams\n",
        "    max_features=5000,   # Limit vocabulary size\n",
        "    min_df=2            # Remove terms that appear in less than 2 documents\n",
        ")\n",
        "X_bow = count_vectorizer.fit_transform(df['processed_text'])\n",
        "\n",
        "# Implementing TF-IDF vectorization\n",
        "print(\"\\nImplementing TF-IDF vectorization...\")\n",
        "tfidf_vectorizer = TfidfVectorizer(\n",
        "    ngram_range=(1, 2),\n",
        "    max_features=5000,\n",
        "    min_df=2\n",
        ")\n",
        "X_tfidf = tfidf_vectorizer.fit_transform(df['processed_text'])\n",
        "\n",
        "# Display vectorization results\n",
        "print(\"\\nShape of feature matrices:\")\n",
        "print(f\"Bag of Words Matrix Shape: {X_bow.shape}\")\n",
        "print(f\"TF-IDF Matrix Shape: {X_tfidf.shape}\")"
      ],
      "metadata": {
        "colab": {
          "base_uri": "https://localhost:8080/"
        },
        "id": "Us1Oy-xbO_Iy",
        "outputId": "1ac97a74-f977-4f75-9bd7-97c353a3c2f9"
      },
      "execution_count": 107,
      "outputs": [
        {
          "output_type": "stream",
          "name": "stdout",
          "text": [
            "\n",
            "Implementing Bag of Words vectorization...\n",
            "\n",
            "Implementing TF-IDF vectorization...\n",
            "\n",
            "Shape of feature matrices:\n",
            "Bag of Words Matrix Shape: (5572, 5000)\n",
            "TF-IDF Matrix Shape: (5572, 5000)\n"
          ]
        }
      ]
    },
    {
      "cell_type": "code",
      "source": [
        "# Show example features\n",
        "print(\"\\nExample features (first 10 from BoW):\")\n",
        "feature_names = list(count_vectorizer.vocabulary_.keys())\n",
        "print(feature_names[:10])\n",
        "\n"
      ],
      "metadata": {
        "colab": {
          "base_uri": "https://localhost:8080/"
        },
        "id": "6RreaBUjPBnG",
        "outputId": "c67141af-0e49-4947-ccad-da39b9d38e88"
      },
      "execution_count": 108,
      "outputs": [
        {
          "output_type": "stream",
          "name": "stdout",
          "text": [
            "\n",
            "Example features (first 10 from BoW):\n",
            "['go', 'point', 'crazy', 'available', 'bugis', 'great', 'world', 'la', 'cine', 'got']\n"
          ]
        }
      ]
    },
    {
      "cell_type": "code",
      "source": [
        "# Add message length as additional feature\n",
        "df['message_length'] = df['Message'].str.len()"
      ],
      "metadata": {
        "id": "T_JPQr6mPnps"
      },
      "execution_count": 109,
      "outputs": []
    },
    {
      "cell_type": "code",
      "source": [
        "# Combine sparse matrices with message length feature\n",
        "from scipy.sparse import hstack\n",
        "X_bow_with_length = hstack([X_bow, df[['message_length']].values.reshape(-1, 1)])\n",
        "X_tfidf_with_length = hstack([X_tfidf, df[['message_length']].values.reshape(-1, 1)])\n",
        "\n",
        "print(\"\\nFinal feature matrix shapes:\")\n",
        "print(f\"BoW with length feature: {X_bow_with_length.shape}\")\n",
        "print(f\"TF-IDF with length feature: {X_tfidf_with_length.shape}\")\n"
      ],
      "metadata": {
        "colab": {
          "base_uri": "https://localhost:8080/"
        },
        "id": "ii4p3OvCQIQf",
        "outputId": "162c4612-6719-4c48-d3ae-67366a4808ee"
      },
      "execution_count": 111,
      "outputs": [
        {
          "output_type": "stream",
          "name": "stdout",
          "text": [
            "\n",
            "Final feature matrix shapes:\n",
            "BoW with length feature: (5572, 5001)\n",
            "TF-IDF with length feature: (5572, 5001)\n"
          ]
        }
      ]
    },
    {
      "cell_type": "code",
      "source": [
        "# Prepare target variable\n",
        "y = (df['Category'] == 'spam').astype(int)\n",
        "\n",
        "# Save processed data\n",
        "import joblib\n",
        "joblib.dump(count_vectorizer, 'count_vectorizer.joblib')\n",
        "joblib.dump(tfidf_vectorizer, 'tfidf_vectorizer.joblib')\n",
        "\n",
        "print(\"\\nPreprocessing complete!\")"
      ],
      "metadata": {
        "colab": {
          "base_uri": "https://localhost:8080/"
        },
        "id": "puRLIRC4QI0z",
        "outputId": "63124dd1-deb8-4e16-b7be-b68bc00420c7"
      },
      "execution_count": 112,
      "outputs": [
        {
          "output_type": "stream",
          "name": "stdout",
          "text": [
            "\n",
            "Preprocessing complete!\n"
          ]
        }
      ]
    },
    {
      "cell_type": "code",
      "source": [],
      "metadata": {
        "id": "ezfPJLz-QQcP"
      },
      "execution_count": null,
      "outputs": []
    },
    {
      "cell_type": "code",
      "source": [],
      "metadata": {
        "id": "rNZh52h3QqOp"
      },
      "execution_count": null,
      "outputs": []
    },
    {
      "cell_type": "markdown",
      "source": [
        "### 4. Model Implementation\n"
      ],
      "metadata": {
        "id": "o0qT3W6XVEws"
      }
    },
    {
      "cell_type": "code",
      "source": [
        "# Import necessary libraries\n",
        "from sklearn.model_selection import train_test_split, cross_val_score\n",
        "from sklearn.naive_bayes import MultinomialNB\n",
        "from sklearn.metrics import classification_report, confusion_matrix\n",
        "import seaborn as sns\n",
        "import matplotlib.pyplot as plt\n"
      ],
      "metadata": {
        "id": "CswT2xkXQqMJ"
      },
      "execution_count": 83,
      "outputs": []
    },
    {
      "cell_type": "code",
      "source": [
        "# Split the data\n",
        "X_bow_train, X_bow_test, X_tfidf_train, X_tfidf_test, y_train, y_test = train_test_split(\n",
        "    X_bow_with_length, X_tfidf_with_length, y,\n",
        "    test_size=0.2, random_state=42, stratify=y\n",
        ")\n",
        "\n",
        "print(\"Training set shape:\", X_bow_train.shape)\n",
        "print(\"Testing set shape:\", X_bow_test.shape)\n"
      ],
      "metadata": {
        "colab": {
          "base_uri": "https://localhost:8080/"
        },
        "id": "PW9z97-rQqJi",
        "outputId": "d3c8c1bb-1468-474a-e098-2dadad78ff5b"
      },
      "execution_count": 84,
      "outputs": [
        {
          "output_type": "stream",
          "name": "stdout",
          "text": [
            "Training set shape: (4457, 5001)\n",
            "Testing set shape: (1115, 5001)\n"
          ]
        }
      ]
    },
    {
      "cell_type": "code",
      "source": [
        "# Train and evaluate models\n",
        "def train_and_evaluate_model(X_train, X_test, model_name):\n",
        "    # Initialize and train the model\n",
        "    nb_model = MultinomialNB()\n",
        "    nb_model.fit(X_train, y_train)\n",
        "\n",
        "    # Make predictions\n",
        "    y_pred = nb_model.predict(X_test)\n",
        "\n",
        "    # Print evaluation metrics\n",
        "    print(f\"\\nResults for {model_name}:\")\n",
        "    print(\"\\nClassification Report:\")\n",
        "    print(classification_report(y_test, y_pred))\n",
        "\n",
        "    # Create confusion matrix\n",
        "    cm = confusion_matrix(y_test, y_pred)\n",
        "    plt.figure(figsize=(8, 6))\n",
        "    sns.heatmap(cm, annot=True, fmt='d', cmap='Blues')\n",
        "    plt.title(f'Confusion Matrix - {model_name}')\n",
        "    plt.ylabel('True Label')\n",
        "    plt.xlabel('Predicted Label')\n",
        "    plt.show()\n",
        "\n",
        "    # Perform cross-validation\n",
        "    cv_scores = cross_val_score(MultinomialNB(), X_train, y_train, cv=5)\n",
        "    print(f\"\\nCross-validation scores: {cv_scores}\")\n",
        "    print(f\"Average CV score: {cv_scores.mean():.3f} (+/- {cv_scores.std() * 2:.3f})\")\n",
        "\n",
        "    return nb_model"
      ],
      "metadata": {
        "id": "4iQkYN3RQtHx"
      },
      "execution_count": 85,
      "outputs": []
    },
    {
      "cell_type": "code",
      "source": [
        "# Train and evaluate BoW model\n",
        "print(\"\\nTraining Bag of Words model...\")\n",
        "bow_model = train_and_evaluate_model(X_bow_train, X_bow_test, \"Bag of Words\")\n",
        "\n",
        "# Train and evaluate TF-IDF model\n",
        "print(\"\\nTraining TF-IDF model...\")\n",
        "tfidf_model = train_and_evaluate_model(X_tfidf_train, X_tfidf_test, \"TF-IDF\")"
      ],
      "metadata": {
        "colab": {
          "base_uri": "https://localhost:8080/",
          "height": 1000
        },
        "id": "HHi8P4qZQwDZ",
        "outputId": "71b31305-919b-48cc-b50f-4ec263da291a"
      },
      "execution_count": 86,
      "outputs": [
        {
          "output_type": "stream",
          "name": "stdout",
          "text": [
            "\n",
            "Training Bag of Words model...\n",
            "\n",
            "Results for Bag of Words:\n",
            "\n",
            "Classification Report:\n",
            "              precision    recall  f1-score   support\n",
            "\n",
            "           0       0.98      1.00      0.99       966\n",
            "           1       0.98      0.85      0.91       149\n",
            "\n",
            "    accuracy                           0.98      1115\n",
            "   macro avg       0.98      0.92      0.95      1115\n",
            "weighted avg       0.98      0.98      0.98      1115\n",
            "\n"
          ]
        },
        {
          "output_type": "display_data",
          "data": {
            "text/plain": [
              "<Figure size 800x600 with 2 Axes>"
            ],
            "image/png": "[encoded data removed]"
          },
          "metadata": {}
        },
        {
          "output_type": "stream",
          "name": "stdout",
          "text": [
            "\n",
            "Cross-validation scores: [0.97421525 0.96860987 0.98428732 0.97867565 0.97979798]\n",
            "Average CV score: 0.977 (+/- 0.011)\n",
            "\n",
            "Training TF-IDF model...\n",
            "\n",
            "Results for TF-IDF:\n",
            "\n",
            "Classification Report:\n",
            "              precision    recall  f1-score   support\n",
            "\n",
            "           0       0.93      1.00      0.96       966\n",
            "           1       1.00      0.52      0.68       149\n",
            "\n",
            "    accuracy                           0.94      1115\n",
            "   macro avg       0.97      0.76      0.82      1115\n",
            "weighted avg       0.94      0.94      0.93      1115\n",
            "\n"
          ]
        },
        {
          "output_type": "display_data",
          "data": {
            "text/plain": [
              "<Figure size 800x600 with 2 Axes>"
            ],
            "image/png": "[encoded data removed]"
          },
          "metadata": {}
        },
        {
          "output_type": "stream",
          "name": "stdout",
          "text": [
            "\n",
            "Cross-validation scores: [0.89798206 0.89573991 0.8956229  0.89113356 0.89113356]\n",
            "Average CV score: 0.894 (+/- 0.005)\n"
          ]
        }
      ]
    },
    {
      "cell_type": "code",
      "source": [
        "# Feature importance analysis for BoW model\n",
        "def analyze_feature_importance(model, vectorizer, n_top_features=20):\n",
        "    \"\"\"\n",
        "    Analyzes and visualizes feature importance for the spam classification model\n",
        "    \"\"\"\n",
        "    # Get feature names from vectorizer\n",
        "    feature_names = list(vectorizer.get_feature_names_out())\n",
        "\n",
        "    # Calculate feature importance (difference in log probabilities)\n",
        "    feature_importance = model.feature_log_prob_[1, :-1] - model.feature_log_prob_[0, :-1]\n",
        "\n",
        "    # Create DataFrame for feature importance\n",
        "    importance_df = pd.DataFrame({\n",
        "        'feature': feature_names,\n",
        "        'importance': feature_importance\n",
        "    })\n",
        "\n",
        "    # Sort features by absolute importance\n",
        "    importance_df['abs_importance'] = abs(importance_df['importance'])\n",
        "    importance_df = importance_df.sort_values('abs_importance', ascending=False)\n",
        "\n",
        "    # Plot top features\n",
        "    plt.figure(figsize=(12, 6))\n",
        "    colors = ['red' if x < 0 else 'green' for x in importance_df['importance'][:n_top_features]]\n",
        "\n",
        "    plt.bar(range(n_top_features),\n",
        "            importance_df['importance'][:n_top_features],\n",
        "            color=colors)\n",
        "\n",
        "    plt.xticks(range(n_top_features),\n",
        "               importance_df['feature'][:n_top_features],\n",
        "               rotation=45,\n",
        "               ha='right')\n",
        "\n",
        "    plt.title('Top Features for Spam Classification')\n",
        "    plt.xlabel('Features')\n",
        "    plt.ylabel('Importance Score (Log Probability Difference)')\n",
        "    plt.tight_layout()\n",
        "    plt.show()\n",
        "\n",
        "    # Print top spam and ham indicators\n",
        "    print(\"\\nTop SPAM indicators (positive importance):\")\n",
        "    spam_indicators = importance_df[importance_df['importance'] > 0].head(10)\n",
        "    print(spam_indicators[['feature', 'importance']].to_string())\n",
        "\n",
        "    print(\"\\nTop HAM indicators (negative importance):\")\n",
        "    ham_indicators = importance_df[importance_df['importance'] < 0].head(10)\n",
        "    print(ham_indicators[['feature', 'importance']].to_string())\n",
        "\n",
        "    return importance_df"
      ],
      "metadata": {
        "id": "-h61CjvCQ0Zp"
      },
      "execution_count": 89,
      "outputs": []
    },
    {
      "cell_type": "code",
      "source": [
        "# Analyze importance for text features only\n",
        "print(\"\\nAnalyzing feature importance...\")\n",
        "importance_df = analyze_feature_importance(bow_model, count_vectorizer)\n"
      ],
      "metadata": {
        "colab": {
          "base_uri": "https://localhost:8080/",
          "height": 1000
        },
        "id": "CQFsLwpfQ-R7",
        "outputId": "817d3b66-69c0-4bf8-b173-a7ed22730bc8"
      },
      "execution_count": 90,
      "outputs": [
        {
          "output_type": "stream",
          "name": "stdout",
          "text": [
            "\n",
            "Analyzing feature importance...\n"
          ]
        },
        {
          "output_type": "display_data",
          "data": {
            "text/plain": [
              "<Figure size 1200x600 with 1 Axes>"
            ],
            "image/png": "[encoded data removed]"
          },
          "metadata": {}
        },
        {
          "output_type": "stream",
          "name": "stdout",
          "text": [
            "\n",
            "Top SPAM indicators (positive importance):\n",
            "         feature  importance\n",
            "636        claim    5.701385\n",
            "3119       prize    5.341729\n",
            "4255        tone    5.107329\n",
            "1589  guaranteed    4.774623\n",
            "3094         ppm    4.692385\n",
            "2085    landline    4.602773\n",
            "224      awarded    4.469241\n",
            "689   collection    4.395133\n",
            "3044       pobox    4.395133\n",
            "2511         mob    4.272531\n",
            "\n",
            "Top HAM indicators (negative importance):\n",
            "       feature  importance\n",
            "2299      ltgt   -4.283498\n",
            "1832       ill   -4.151230\n",
            "2243       lor   -3.738160\n",
            "2104     later   -3.554311\n",
            "4080     thats   -3.317310\n",
            "95         amp   -3.193696\n",
            "183        ask   -3.139629\n",
            "132   anything   -3.125643\n",
            "3463      said   -3.082471\n",
            "1747      home   -3.060165\n"
          ]
        }
      ]
    },
    {
      "cell_type": "code",
      "source": [
        "# Function to show example predictions with their probabilities\n",
        "def show_example_predictions(model, X_test, y_test, original_texts, n_examples=5):\n",
        "    \"\"\"\n",
        "    Show example predictions from the model.\n",
        "\n",
        "    Parameters:\n",
        "    -----------\n",
        "    model : trained model object\n",
        "    X_test : sparse matrix of test features\n",
        "    y_test : array-like of test labels\n",
        "    original_texts : array-like of original message texts\n",
        "    n_examples : int, number of examples to show\n",
        "    \"\"\"\n",
        "    # Convert y_test to numpy array if it's a pandas series\n",
        "    y_test_array = np.array(y_test)\n",
        "\n",
        "    # Get random indices\n",
        "    n_samples = X_test.shape[0]\n",
        "    random_indices = np.random.RandomState(42).choice(n_samples, n_examples, replace=False)\n",
        "\n",
        "    print(\"\\nExample Predictions:\")\n",
        "    print(\"-\" * 70)\n",
        "\n",
        "    for idx in random_indices:\n",
        "        # Get the feature vector for this example\n",
        "        X_example = X_test[idx]\n",
        "\n",
        "        # Make prediction and get probability\n",
        "        pred = model.predict(X_example)\n",
        "        prob = model.predict_proba(X_example)\n",
        "\n",
        "        # Get actual label\n",
        "        actual = y_test_array[idx]\n",
        "\n",
        "        # Get original message\n",
        "        original_message = original_texts.iloc[idx]\n",
        "\n",
        "        # Print results\n",
        "        print(f\"Original Message: {original_message}\")\n",
        "        print(f\"Actual Label: {'spam' if actual == 1 else 'ham'}\")\n",
        "        print(f\"Predicted Label: {'spam' if pred[0] == 1 else 'ham'}\")\n",
        "        print(f\"Probability of being spam: {prob[0][1]:.3f}\")\n",
        "        print(\"-\" * 70)"
      ],
      "metadata": {
        "id": "4V0vhOTFRAk-"
      },
      "execution_count": 103,
      "outputs": []
    },
    {
      "cell_type": "code",
      "source": [
        "# Store original messages and true labels before splitting\n",
        "original_messages = df['Message'].copy()\n",
        "true_labels = y.copy()\n",
        "\n",
        "# Split the data including original messages\n",
        "X_bow_train, X_bow_test, X_tfidf_train, X_tfidf_test, y_train, y_test, messages_train, messages_test = train_test_split(\n",
        "    X_bow_with_length, X_tfidf_with_length, y, original_messages,\n",
        "    test_size=0.2, random_state=42, stratify=y\n",
        ")\n"
      ],
      "metadata": {
        "id": "coFAltHOT7T4"
      },
      "execution_count": 104,
      "outputs": []
    },
    {
      "cell_type": "code",
      "source": [
        "\n",
        "# Show predictions for BoW model\n",
        "print(\"\\nBag of Words Model Predictions:\")\n",
        "show_example_predictions(bow_model, X_bow_test, y_test, messages_test)\n",
        "\n",
        "# Show predictions for TF-IDF model\n",
        "print(\"\\nTF-IDF Model Predictions:\")\n",
        "show_example_predictions(tfidf_model, X_tfidf_test, y_test, messages_test)"
      ],
      "metadata": {
        "colab": {
          "base_uri": "https://localhost:8080/"
        },
        "id": "gg-D316uReXO",
        "outputId": "86a7ef49-4b34-42f8-d37f-66e5029424a1"
      },
      "execution_count": 105,
      "outputs": [
        {
          "output_type": "stream",
          "name": "stdout",
          "text": [
            "\n",
            "Bag of Words Model Predictions:\n",
            "\n",
            "Example Predictions:\n",
            "----------------------------------------------------------------------\n",
            "Original Message: TheMob>Hit the link to get a premium Pink Panther game, the new no. 1 from Sugababes, a crazy Zebra animation or a badass Hoody wallpaper-all 4 FREE!\n",
            "Actual Label: spam\n",
            "Predicted Label: ham\n",
            "Probability of being spam: 0.027\n",
            "----------------------------------------------------------------------\n",
            "Original Message: U're welcome... Caught u using broken english again...\n",
            "Actual Label: ham\n",
            "Predicted Label: ham\n",
            "Probability of being spam: 0.032\n",
            "----------------------------------------------------------------------\n",
            "Original Message: Haiyoh... Maybe your hamster was jealous of million\n",
            "Actual Label: ham\n",
            "Predicted Label: ham\n",
            "Probability of being spam: 0.012\n",
            "----------------------------------------------------------------------\n",
            "Original Message: K..k..i'm also fine:)when will you complete the course?\n",
            "Actual Label: ham\n",
            "Predicted Label: ham\n",
            "Probability of being spam: 0.000\n",
            "----------------------------------------------------------------------\n",
            "Original Message: I know you are. Can you pls open the back?\n",
            "Actual Label: ham\n",
            "Predicted Label: ham\n",
            "Probability of being spam: 0.001\n",
            "----------------------------------------------------------------------\n",
            "\n",
            "TF-IDF Model Predictions:\n",
            "\n",
            "Example Predictions:\n",
            "----------------------------------------------------------------------\n",
            "Original Message: TheMob>Hit the link to get a premium Pink Panther game, the new no. 1 from Sugababes, a crazy Zebra animation or a badass Hoody wallpaper-all 4 FREE!\n",
            "Actual Label: spam\n",
            "Predicted Label: ham\n",
            "Probability of being spam: 0.008\n",
            "----------------------------------------------------------------------\n",
            "Original Message: U're welcome... Caught u using broken english again...\n",
            "Actual Label: ham\n",
            "Predicted Label: ham\n",
            "Probability of being spam: 0.099\n",
            "----------------------------------------------------------------------\n",
            "Original Message: Haiyoh... Maybe your hamster was jealous of million\n",
            "Actual Label: ham\n",
            "Predicted Label: ham\n",
            "Probability of being spam: 0.058\n",
            "----------------------------------------------------------------------\n",
            "Original Message: K..k..i'm also fine:)when will you complete the course?\n",
            "Actual Label: ham\n",
            "Predicted Label: ham\n",
            "Probability of being spam: 0.020\n",
            "----------------------------------------------------------------------\n",
            "Original Message: I know you are. Can you pls open the back?\n",
            "Actual Label: ham\n",
            "Predicted Label: ham\n",
            "Probability of being spam: 0.009\n",
            "----------------------------------------------------------------------\n"
          ]
        }
      ]
    },
    {
      "cell_type": "code",
      "source": [],
      "metadata": {
        "id": "vye8tUUISYAY"
      },
      "execution_count": null,
      "outputs": []
    }
  ]
}