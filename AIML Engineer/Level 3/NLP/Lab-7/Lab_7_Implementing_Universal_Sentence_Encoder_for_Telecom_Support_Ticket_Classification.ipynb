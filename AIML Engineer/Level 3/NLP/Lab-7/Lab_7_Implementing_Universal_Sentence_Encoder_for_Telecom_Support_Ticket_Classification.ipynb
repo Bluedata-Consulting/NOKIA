{
  "nbformat": 4,
  "nbformat_minor": 0,
  "metadata": {
    "colab": {
      "provenance": []
    },
    "kernelspec": {
      "name": "python3",
      "display_name": "Python 3"
    },
    "language_info": {
      "name": "python"
    }
  },
  "cells": [
    {
      "cell_type": "markdown",
      "source": [
        "# Lab 7: Implementing Universal Sentence Encoder for Telecom Support Ticket Classification\n",
        "\n",
        "## Objective\n",
        "This laboratory session focuses on understanding and implementing Universal Sentence Encoder (USE) for telecom complaint analysis. Students will learn about USE's architecture, its transformation process, and how it creates meaningful sentence embeddings. The lab demonstrates USE's practical applications in telecom customer service automation.\n",
        "\n",
        "## Dataset Description\n",
        "The Telecom Customer Support Tickets dataset contains customer service interactions from a telecommunications company.\n",
        "\n",
        "**Data Dictionary:**\n",
        "- ticket_id: Unique identifier for each support ticket\n",
        "- text: Customer's description of the issue\n",
        "- category: Type of issue (e.g., 'Network', 'Billing', 'Technical', 'Account')\n",
        "- priority: Ticket priority level\n",
        "- resolution_time: Time taken to resolve the ticket\n",
        "\n",
        "## Tasks to be Performed\n",
        "1. Environment Setup and Data Preparation\n",
        "\n",
        "2. Understanding Universal Sentence Encoder\n",
        "\n",
        "3. Visualizing USE Embeddings with UMAP\n",
        "\n",
        "4. Semantic Similarity Analysis\n",
        "\n",
        "5. Building Classification Model Using USE Embeddings\n",
        "\n",
        "6. Training and Evaluation"
      ],
      "metadata": {
        "id": "RoFgbtC3gLzW"
      }
    },
    {
      "cell_type": "code",
      "source": [
        "! pip install umap-learn"
      ],
      "metadata": {
        "colab": {
          "base_uri": "https://localhost:8080/",
          "height": 443
        },
        "id": "r67nwAXLhK-f",
        "outputId": "c8260ed1-4849-486d-fa51-82230183a03b"
      },
      "execution_count": 28,
      "outputs": [
        {
          "output_type": "stream",
          "name": "stdout",
          "text": [
            "Requirement already satisfied: umap in /usr/local/lib/python3.10/dist-packages (0.1.1)\n",
            "Collecting umap-learn\n",
            "  Downloading umap_learn-0.5.7-py3-none-any.whl.metadata (21 kB)\n",
            "Requirement already satisfied: numpy>=1.17 in /usr/local/lib/python3.10/dist-packages (from umap-learn) (1.26.4)\n",
            "Requirement already satisfied: scipy>=1.3.1 in /usr/local/lib/python3.10/dist-packages (from umap-learn) (1.13.1)\n",
            "Requirement already satisfied: scikit-learn>=0.22 in /usr/local/lib/python3.10/dist-packages (from umap-learn) (1.6.0)\n",
            "Requirement already satisfied: numba>=0.51.2 in /usr/local/lib/python3.10/dist-packages (from umap-learn) (0.60.0)\n",
            "Collecting pynndescent>=0.5 (from umap-learn)\n",
            "  Downloading pynndescent-0.5.13-py3-none-any.whl.metadata (6.8 kB)\n",
            "Requirement already satisfied: tqdm in /usr/local/lib/python3.10/dist-packages (from umap-learn) (4.67.1)\n",
            "Requirement already satisfied: llvmlite<0.44,>=0.43.0dev0 in /usr/local/lib/python3.10/dist-packages (from numba>=0.51.2->umap-learn) (0.43.0)\n",
            "Requirement already satisfied: joblib>=0.11 in /usr/local/lib/python3.10/dist-packages (from pynndescent>=0.5->umap-learn) (1.4.2)\n",
            "Requirement already satisfied: threadpoolctl>=3.1.0 in /usr/local/lib/python3.10/dist-packages (from scikit-learn>=0.22->umap-learn) (3.5.0)\n",
            "Downloading umap_learn-0.5.7-py3-none-any.whl (88 kB)\n",
            "\u001b[2K   \u001b[90m━━━━━━━━━━━━━━━━━━━━━━━━━━━━━━━━━━━━━━━━\u001b[0m \u001b[32m88.8/88.8 kB\u001b[0m \u001b[31m3.4 MB/s\u001b[0m eta \u001b[36m0:00:00\u001b[0m\n",
            "\u001b[?25hDownloading pynndescent-0.5.13-py3-none-any.whl (56 kB)\n",
            "\u001b[2K   \u001b[90m━━━━━━━━━━━━━━━━━━━━━━━━━━━━━━━━━━━━━━━━\u001b[0m \u001b[32m56.9/56.9 kB\u001b[0m \u001b[31m3.4 MB/s\u001b[0m eta \u001b[36m0:00:00\u001b[0m\n",
            "\u001b[?25hInstalling collected packages: pynndescent, umap-learn\n",
            "Successfully installed pynndescent-0.5.13 umap-learn-0.5.7\n"
          ]
        },
        {
          "output_type": "display_data",
          "data": {
            "application/vnd.colab-display-data+json": {
              "pip_warning": {
                "packages": [
                  "umap"
                ]
              },
              "id": "d6c83fdaa4844ceca7ad7dd8e50faf38"
            }
          },
          "metadata": {}
        }
      ]
    },
    {
      "cell_type": "markdown",
      "source": [
        "## 1. Data Loading and Preprocessing\n"
      ],
      "metadata": {
        "id": "9061I-cShgQA"
      }
    },
    {
      "cell_type": "code",
      "execution_count": 1,
      "metadata": {
        "id": "sKbTH95QgFh_"
      },
      "outputs": [],
      "source": [
        "# Import required libraries\n",
        "import torch\n",
        "import torch.nn as nn\n",
        "import torch.optim as optim\n",
        "from torch.utils.data import Dataset, DataLoader\n",
        "import tensorflow as tf\n",
        "import tensorflow_hub as hub\n",
        "import numpy as np\n",
        "import pandas as pd\n",
        "import matplotlib.pyplot as plt\n",
        "import seaborn as sns\n",
        "from sklearn.model_selection import train_test_split\n",
        "from sklearn.preprocessing import LabelEncoder\n",
        "from sklearn.metrics import classification_report, confusion_matrix\n",
        "import umap\n",
        "from tqdm import tqdm"
      ]
    },
    {
      "cell_type": "code",
      "source": [
        "# Set random seed for reproducibility\n",
        "torch.manual_seed(42)\n",
        "tf.random.set_seed(42)\n",
        "np.random.seed(42)\n"
      ],
      "metadata": {
        "id": "vxth6Hhqg3oJ"
      },
      "execution_count": 2,
      "outputs": []
    },
    {
      "cell_type": "markdown",
      "source": [
        "# Universal Sentence Encoder\n",
        "\n",
        "### Architecture Overview\n",
        "Universal Sentence Encoder employs two variants:\n",
        "1. **Transformer-based encoder:**\n",
        "   - Based on the Transformer architecture\n",
        "   - Optimized for accuracy\n",
        "   - Higher resource requirements\n",
        "   \n",
        "2. **Deep Averaging Network (DAN):**\n",
        "   - Averages word and bi-gram embeddings\n",
        "   - Passes through deep neural network\n",
        "   - Optimized for efficiency\n",
        "\n",
        "### Key Features of USE\n",
        "- Fixed-length embeddings regardless of input sentence length\n",
        "- Trained on multiple tasks for better generalization\n",
        "- Preserves semantic relationships between sentences\n",
        "- Computationally efficient encoding\n"
      ],
      "metadata": {
        "id": "_x_k4PsQhTqN"
      }
    },
    {
      "cell_type": "code",
      "source": [
        "# Load USE model\n",
        "module_url = \"https://tfhub.dev/google/universal-sentence-encoder/4\"\n",
        "use_model = hub.load(module_url)"
      ],
      "metadata": {
        "id": "DnapF4tejF6V"
      },
      "execution_count": 3,
      "outputs": []
    },
    {
      "cell_type": "code",
      "source": [
        "# Load the dataset\n",
        "df = pd.read_excel('/content/telecom complaints.xlsx')"
      ],
      "metadata": {
        "id": "hYhvxEhKhUlL"
      },
      "execution_count": 4,
      "outputs": []
    },
    {
      "cell_type": "code",
      "source": [
        "df"
      ],
      "metadata": {
        "colab": {
          "base_uri": "https://localhost:8080/",
          "height": 423
        },
        "id": "-XD2q2eOhvHB",
        "outputId": "fcf44c0a-9781-4e47-98b5-44d479606317"
      },
      "execution_count": 5,
      "outputs": [
        {
          "output_type": "execute_result",
          "data": {
            "text/plain": [
              "    ticket_id                                               text   category  \\\n",
              "0     TKT-001  Network keeps dropping intermittently in downt...    Network   \n",
              "1     TKT-002        Cannot connect to 5G network at home office    Network   \n",
              "2     TKT-003  Incorrect charges on my January bill for data ...    Billing   \n",
              "3     TKT-004          Need to update billing address on account    Account   \n",
              "4     TKT-005    Router not working after recent firmware update  Technical   \n",
              "..        ...                                                ...        ...   \n",
              "195   TKT-196                                 Smart plug offline  Technical   \n",
              "196   TKT-197                                 Payment plan setup    Billing   \n",
              "197   TKT-198                              Identity verification    Account   \n",
              "198   TKT-199                              Network segment issue    Network   \n",
              "199   TKT-200                           Automation routine error  Technical   \n",
              "\n",
              "     priority  resolution_time  \n",
              "0        High              4.2  \n",
              "1    Critical              2.1  \n",
              "2      Medium              7.8  \n",
              "3         Low             20.5  \n",
              "4        High              3.9  \n",
              "..        ...              ...  \n",
              "195      High              3.9  \n",
              "196  Critical              2.1  \n",
              "197    Medium              8.2  \n",
              "198      High              4.1  \n",
              "199       Low             22.4  \n",
              "\n",
              "[200 rows x 5 columns]"
            ],
            "text/html": [
              "\n",
              "  <div id=\"df-e2ccbe0a-123d-463c-8e33-f769c33908fe\" class=\"colab-df-container\">\n",
              "    <div>\n",
              "<style scoped>\n",
              "    .dataframe tbody tr th:only-of-type {\n",
              "        vertical-align: middle;\n",
              "    }\n",
              "\n",
              "    .dataframe tbody tr th {\n",
              "        vertical-align: top;\n",
              "    }\n",
              "\n",
              "    .dataframe thead th {\n",
              "        text-align: right;\n",
              "    }\n",
              "</style>\n",
              "<table border=\"1\" class=\"dataframe\">\n",
              "  <thead>\n",
              "    <tr style=\"text-align: right;\">\n",
              "      <th></th>\n",
              "      <th>ticket_id</th>\n",
              "      <th>text</th>\n",
              "      <th>category</th>\n",
              "      <th>priority</th>\n",
              "      <th>resolution_time</th>\n",
              "    </tr>\n",
              "  </thead>\n",
              "  <tbody>\n",
              "    <tr>\n",
              "      <th>0</th>\n",
              "      <td>TKT-001</td>\n",
              "      <td>Network keeps dropping intermittently in downt...</td>\n",
              "      <td>Network</td>\n",
              "      <td>High</td>\n",
              "      <td>4.2</td>\n",
              "    </tr>\n",
              "    <tr>\n",
              "      <th>1</th>\n",
              "      <td>TKT-002</td>\n",
              "      <td>Cannot connect to 5G network at home office</td>\n",
              "      <td>Network</td>\n",
              "      <td>Critical</td>\n",
              "      <td>2.1</td>\n",
              "    </tr>\n",
              "    <tr>\n",
              "      <th>2</th>\n",
              "      <td>TKT-003</td>\n",
              "      <td>Incorrect charges on my January bill for data ...</td>\n",
              "      <td>Billing</td>\n",
              "      <td>Medium</td>\n",
              "      <td>7.8</td>\n",
              "    </tr>\n",
              "    <tr>\n",
              "      <th>3</th>\n",
              "      <td>TKT-004</td>\n",
              "      <td>Need to update billing address on account</td>\n",
              "      <td>Account</td>\n",
              "      <td>Low</td>\n",
              "      <td>20.5</td>\n",
              "    </tr>\n",
              "    <tr>\n",
              "      <th>4</th>\n",
              "      <td>TKT-005</td>\n",
              "      <td>Router not working after recent firmware update</td>\n",
              "      <td>Technical</td>\n",
              "      <td>High</td>\n",
              "      <td>3.9</td>\n",
              "    </tr>\n",
              "    <tr>\n",
              "      <th>...</th>\n",
              "      <td>...</td>\n",
              "      <td>...</td>\n",
              "      <td>...</td>\n",
              "      <td>...</td>\n",
              "      <td>...</td>\n",
              "    </tr>\n",
              "    <tr>\n",
              "      <th>195</th>\n",
              "      <td>TKT-196</td>\n",
              "      <td>Smart plug offline</td>\n",
              "      <td>Technical</td>\n",
              "      <td>High</td>\n",
              "      <td>3.9</td>\n",
              "    </tr>\n",
              "    <tr>\n",
              "      <th>196</th>\n",
              "      <td>TKT-197</td>\n",
              "      <td>Payment plan setup</td>\n",
              "      <td>Billing</td>\n",
              "      <td>Critical</td>\n",
              "      <td>2.1</td>\n",
              "    </tr>\n",
              "    <tr>\n",
              "      <th>197</th>\n",
              "      <td>TKT-198</td>\n",
              "      <td>Identity verification</td>\n",
              "      <td>Account</td>\n",
              "      <td>Medium</td>\n",
              "      <td>8.2</td>\n",
              "    </tr>\n",
              "    <tr>\n",
              "      <th>198</th>\n",
              "      <td>TKT-199</td>\n",
              "      <td>Network segment issue</td>\n",
              "      <td>Network</td>\n",
              "      <td>High</td>\n",
              "      <td>4.1</td>\n",
              "    </tr>\n",
              "    <tr>\n",
              "      <th>199</th>\n",
              "      <td>TKT-200</td>\n",
              "      <td>Automation routine error</td>\n",
              "      <td>Technical</td>\n",
              "      <td>Low</td>\n",
              "      <td>22.4</td>\n",
              "    </tr>\n",
              "  </tbody>\n",
              "</table>\n",
              "<p>200 rows × 5 columns</p>\n",
              "</div>\n",
              "    <div class=\"colab-df-buttons\">\n",
              "\n",
              "  <div class=\"colab-df-container\">\n",
              "    <button class=\"colab-df-convert\" onclick=\"convertToInteractive('df-e2ccbe0a-123d-463c-8e33-f769c33908fe')\"\n",
              "            title=\"Convert this dataframe to an interactive table.\"\n",
              "            style=\"display:none;\">\n",
              "\n",
              "  <svg xmlns=\"http://www.w3.org/2000/svg\" height=\"24px\" viewBox=\"0 -960 960 960\">\n",
              "    <path d=\"M120-120v-720h720v720H120Zm60-500h600v-160H180v160Zm220 220h160v-160H400v160Zm0 220h160v-160H400v160ZM180-400h160v-160H180v160Zm440 0h160v-160H620v160ZM180-180h160v-160H180v160Zm440 0h160v-160H620v160Z\"/>\n",
              "  </svg>\n",
              "    </button>\n",
              "\n",
              "  <style>\n",
              "    .colab-df-container {\n",
              "      display:flex;\n",
              "      gap: 12px;\n",
              "    }\n",
              "\n",
              "    .colab-df-convert {\n",
              "      background-color: #E8F0FE;\n",
              "      border: none;\n",
              "      border-radius: 50%;\n",
              "      cursor: pointer;\n",
              "      display: none;\n",
              "      fill: #1967D2;\n",
              "      height: 32px;\n",
              "      padding: 0 0 0 0;\n",
              "      width: 32px;\n",
              "    }\n",
              "\n",
              "    .colab-df-convert:hover {\n",
              "      background-color: #E2EBFA;\n",
              "      box-shadow: 0px 1px 2px rgba(60, 64, 67, 0.3), 0px 1px 3px 1px rgba(60, 64, 67, 0.15);\n",
              "      fill: #174EA6;\n",
              "    }\n",
              "\n",
              "    .colab-df-buttons div {\n",
              "      margin-bottom: 4px;\n",
              "    }\n",
              "\n",
              "    [theme=dark] .colab-df-convert {\n",
              "      background-color: #3B4455;\n",
              "      fill: #D2E3FC;\n",
              "    }\n",
              "\n",
              "    [theme=dark] .colab-df-convert:hover {\n",
              "      background-color: #434B5C;\n",
              "      box-shadow: 0px 1px 3px 1px rgba(0, 0, 0, 0.15);\n",
              "      filter: drop-shadow(0px 1px 2px rgba(0, 0, 0, 0.3));\n",
              "      fill: #FFFFFF;\n",
              "    }\n",
              "  </style>\n",
              "\n",
              "    <script>\n",
              "      const buttonEl =\n",
              "        document.querySelector('#df-e2ccbe0a-123d-463c-8e33-f769c33908fe button.colab-df-convert');\n",
              "      buttonEl.style.display =\n",
              "        google.colab.kernel.accessAllowed ? 'block' : 'none';\n",
              "\n",
              "      async function convertToInteractive(key) {\n",
              "        const element = document.querySelector('#df-e2ccbe0a-123d-463c-8e33-f769c33908fe');\n",
              "        const dataTable =\n",
              "          await google.colab.kernel.invokeFunction('convertToInteractive',\n",
              "                                                    [key], {});\n",
              "        if (!dataTable) return;\n",
              "\n",
              "        const docLinkHtml = 'Like what you see? Visit the ' +\n",
              "          '<a target=\"_blank\" href=https://colab.research.google.com/notebooks/data_table.ipynb>data table notebook</a>'\n",
              "          + ' to learn more about interactive tables.';\n",
              "        element.innerHTML = '';\n",
              "        dataTable['output_type'] = 'display_data';\n",
              "        await google.colab.output.renderOutput(dataTable, element);\n",
              "        const docLink = document.createElement('div');\n",
              "        docLink.innerHTML = docLinkHtml;\n",
              "        element.appendChild(docLink);\n",
              "      }\n",
              "    </script>\n",
              "  </div>\n",
              "\n",
              "\n",
              "<div id=\"df-d366f782-7977-4ce9-850e-e0d83a36b86c\">\n",
              "  <button class=\"colab-df-quickchart\" onclick=\"quickchart('df-d366f782-7977-4ce9-850e-e0d83a36b86c')\"\n",
              "            title=\"Suggest charts\"\n",
              "            style=\"display:none;\">\n",
              "\n",
              "<svg xmlns=\"http://www.w3.org/2000/svg\" height=\"24px\"viewBox=\"0 0 24 24\"\n",
              "     width=\"24px\">\n",
              "    <g>\n",
              "        <path d=\"M19 3H5c-1.1 0-2 .9-2 2v14c0 1.1.9 2 2 2h14c1.1 0 2-.9 2-2V5c0-1.1-.9-2-2-2zM9 17H7v-7h2v7zm4 0h-2V7h2v10zm4 0h-2v-4h2v4z\"/>\n",
              "    </g>\n",
              "</svg>\n",
              "  </button>\n",
              "\n",
              "<style>\n",
              "  .colab-df-quickchart {\n",
              "      --bg-color: #E8F0FE;\n",
              "      --fill-color: #1967D2;\n",
              "      --hover-bg-color: #E2EBFA;\n",
              "      --hover-fill-color: #174EA6;\n",
              "      --disabled-fill-color: #AAA;\n",
              "      --disabled-bg-color: #DDD;\n",
              "  }\n",
              "\n",
              "  [theme=dark] .colab-df-quickchart {\n",
              "      --bg-color: #3B4455;\n",
              "      --fill-color: #D2E3FC;\n",
              "      --hover-bg-color: #434B5C;\n",
              "      --hover-fill-color: #FFFFFF;\n",
              "      --disabled-bg-color: #3B4455;\n",
              "      --disabled-fill-color: #666;\n",
              "  }\n",
              "\n",
              "  .colab-df-quickchart {\n",
              "    background-color: var(--bg-color);\n",
              "    border: none;\n",
              "    border-radius: 50%;\n",
              "    cursor: pointer;\n",
              "    display: none;\n",
              "    fill: var(--fill-color);\n",
              "    height: 32px;\n",
              "    padding: 0;\n",
              "    width: 32px;\n",
              "  }\n",
              "\n",
              "  .colab-df-quickchart:hover {\n",
              "    background-color: var(--hover-bg-color);\n",
              "    box-shadow: 0 1px 2px rgba(60, 64, 67, 0.3), 0 1px 3px 1px rgba(60, 64, 67, 0.15);\n",
              "    fill: var(--button-hover-fill-color);\n",
              "  }\n",
              "\n",
              "  .colab-df-quickchart-complete:disabled,\n",
              "  .colab-df-quickchart-complete:disabled:hover {\n",
              "    background-color: var(--disabled-bg-color);\n",
              "    fill: var(--disabled-fill-color);\n",
              "    box-shadow: none;\n",
              "  }\n",
              "\n",
              "  .colab-df-spinner {\n",
              "    border: 2px solid var(--fill-color);\n",
              "    border-color: transparent;\n",
              "    border-bottom-color: var(--fill-color);\n",
              "    animation:\n",
              "      spin 1s steps(1) infinite;\n",
              "  }\n",
              "\n",
              "  @keyframes spin {\n",
              "    0% {\n",
              "      border-color: transparent;\n",
              "      border-bottom-color: var(--fill-color);\n",
              "      border-left-color: var(--fill-color);\n",
              "    }\n",
              "    20% {\n",
              "      border-color: transparent;\n",
              "      border-left-color: var(--fill-color);\n",
              "      border-top-color: var(--fill-color);\n",
              "    }\n",
              "    30% {\n",
              "      border-color: transparent;\n",
              "      border-left-color: var(--fill-color);\n",
              "      border-top-color: var(--fill-color);\n",
              "      border-right-color: var(--fill-color);\n",
              "    }\n",
              "    40% {\n",
              "      border-color: transparent;\n",
              "      border-right-color: var(--fill-color);\n",
              "      border-top-color: var(--fill-color);\n",
              "    }\n",
              "    60% {\n",
              "      border-color: transparent;\n",
              "      border-right-color: var(--fill-color);\n",
              "    }\n",
              "    80% {\n",
              "      border-color: transparent;\n",
              "      border-right-color: var(--fill-color);\n",
              "      border-bottom-color: var(--fill-color);\n",
              "    }\n",
              "    90% {\n",
              "      border-color: transparent;\n",
              "      border-bottom-color: var(--fill-color);\n",
              "    }\n",
              "  }\n",
              "</style>\n",
              "\n",
              "  <script>\n",
              "    async function quickchart(key) {\n",
              "      const quickchartButtonEl =\n",
              "        document.querySelector('#' + key + ' button');\n",
              "      quickchartButtonEl.disabled = true;  // To prevent multiple clicks.\n",
              "      quickchartButtonEl.classList.add('colab-df-spinner');\n",
              "      try {\n",
              "        const charts = await google.colab.kernel.invokeFunction(\n",
              "            'suggestCharts', [key], {});\n",
              "      } catch (error) {\n",
              "        console.error('Error during call to suggestCharts:', error);\n",
              "      }\n",
              "      quickchartButtonEl.classList.remove('colab-df-spinner');\n",
              "      quickchartButtonEl.classList.add('colab-df-quickchart-complete');\n",
              "    }\n",
              "    (() => {\n",
              "      let quickchartButtonEl =\n",
              "        document.querySelector('#df-d366f782-7977-4ce9-850e-e0d83a36b86c button');\n",
              "      quickchartButtonEl.style.display =\n",
              "        google.colab.kernel.accessAllowed ? 'block' : 'none';\n",
              "    })();\n",
              "  </script>\n",
              "</div>\n",
              "\n",
              "  <div id=\"id_2fbc80f5-4b5f-41d1-9b17-a29ddf77a5e6\">\n",
              "    <style>\n",
              "      .colab-df-generate {\n",
              "        background-color: #E8F0FE;\n",
              "        border: none;\n",
              "        border-radius: 50%;\n",
              "        cursor: pointer;\n",
              "        display: none;\n",
              "        fill: #1967D2;\n",
              "        height: 32px;\n",
              "        padding: 0 0 0 0;\n",
              "        width: 32px;\n",
              "      }\n",
              "\n",
              "      .colab-df-generate:hover {\n",
              "        background-color: #E2EBFA;\n",
              "        box-shadow: 0px 1px 2px rgba(60, 64, 67, 0.3), 0px 1px 3px 1px rgba(60, 64, 67, 0.15);\n",
              "        fill: #174EA6;\n",
              "      }\n",
              "\n",
              "      [theme=dark] .colab-df-generate {\n",
              "        background-color: #3B4455;\n",
              "        fill: #D2E3FC;\n",
              "      }\n",
              "\n",
              "      [theme=dark] .colab-df-generate:hover {\n",
              "        background-color: #434B5C;\n",
              "        box-shadow: 0px 1px 3px 1px rgba(0, 0, 0, 0.15);\n",
              "        filter: drop-shadow(0px 1px 2px rgba(0, 0, 0, 0.3));\n",
              "        fill: #FFFFFF;\n",
              "      }\n",
              "    </style>\n",
              "    <button class=\"colab-df-generate\" onclick=\"generateWithVariable('df')\"\n",
              "            title=\"Generate code using this dataframe.\"\n",
              "            style=\"display:none;\">\n",
              "\n",
              "  <svg xmlns=\"http://www.w3.org/2000/svg\" height=\"24px\"viewBox=\"0 0 24 24\"\n",
              "       width=\"24px\">\n",
              "    <path d=\"M7,19H8.4L18.45,9,17,7.55,7,17.6ZM5,21V16.75L18.45,3.32a2,2,0,0,1,2.83,0l1.4,1.43a1.91,1.91,0,0,1,.58,1.4,1.91,1.91,0,0,1-.58,1.4L9.25,21ZM18.45,9,17,7.55Zm-12,3A5.31,5.31,0,0,0,4.9,8.1,5.31,5.31,0,0,0,1,6.5,5.31,5.31,0,0,0,4.9,4.9,5.31,5.31,0,0,0,6.5,1,5.31,5.31,0,0,0,8.1,4.9,5.31,5.31,0,0,0,12,6.5,5.46,5.46,0,0,0,6.5,12Z\"/>\n",
              "  </svg>\n",
              "    </button>\n",
              "    <script>\n",
              "      (() => {\n",
              "      const buttonEl =\n",
              "        document.querySelector('#id_2fbc80f5-4b5f-41d1-9b17-a29ddf77a5e6 button.colab-df-generate');\n",
              "      buttonEl.style.display =\n",
              "        google.colab.kernel.accessAllowed ? 'block' : 'none';\n",
              "\n",
              "      buttonEl.onclick = () => {\n",
              "        google.colab.notebook.generateWithVariable('df');\n",
              "      }\n",
              "      })();\n",
              "    </script>\n",
              "  </div>\n",
              "\n",
              "    </div>\n",
              "  </div>\n"
            ],
            "application/vnd.google.colaboratory.intrinsic+json": {
              "type": "dataframe",
              "variable_name": "df",
              "summary": "{\n  \"name\": \"df\",\n  \"rows\": 200,\n  \"fields\": [\n    {\n      \"column\": \"ticket_id\",\n      \"properties\": {\n        \"dtype\": \"string\",\n        \"num_unique_values\": 200,\n        \"samples\": [\n          \"TKT-096\",\n          \"TKT-016\",\n          \"TKT-031\"\n        ],\n        \"semantic_type\": \"\",\n        \"description\": \"\"\n      }\n    },\n    {\n      \"column\": \"text\",\n      \"properties\": {\n        \"dtype\": \"string\",\n        \"num_unique_values\": 200,\n        \"samples\": [\n          \"Cloud storage sync issue\",\n          \"Dispute over roaming charges on recent bill\",\n          \"Paperless billing enrollment issue\"\n        ],\n        \"semantic_type\": \"\",\n        \"description\": \"\"\n      }\n    },\n    {\n      \"column\": \"category\",\n      \"properties\": {\n        \"dtype\": \"category\",\n        \"num_unique_values\": 4,\n        \"samples\": [\n          \"Billing\",\n          \"Technical\",\n          \"Network\"\n        ],\n        \"semantic_type\": \"\",\n        \"description\": \"\"\n      }\n    },\n    {\n      \"column\": \"priority\",\n      \"properties\": {\n        \"dtype\": \"category\",\n        \"num_unique_values\": 4,\n        \"samples\": [\n          \"Critical\",\n          \"Low\",\n          \"High\"\n        ],\n        \"semantic_type\": \"\",\n        \"description\": \"\"\n      }\n    },\n    {\n      \"column\": \"resolution_time\",\n      \"properties\": {\n        \"dtype\": \"number\",\n        \"std\": 7.392567230080245,\n        \"min\": 1.6,\n        \"max\": 23.4,\n        \"num_unique_values\": 47,\n        \"samples\": [\n          22.4,\n          22.6,\n          4.6\n        ],\n        \"semantic_type\": \"\",\n        \"description\": \"\"\n      }\n    }\n  ]\n}"
            }
          },
          "metadata": {},
          "execution_count": 5
        }
      ]
    },
    {
      "cell_type": "code",
      "source": [
        "df.info()"
      ],
      "metadata": {
        "colab": {
          "base_uri": "https://localhost:8080/"
        },
        "id": "YtOgWAjfhv5C",
        "outputId": "f03788eb-ed9c-4ea1-8674-ec1c705bd1ba"
      },
      "execution_count": 6,
      "outputs": [
        {
          "output_type": "stream",
          "name": "stdout",
          "text": [
            "<class 'pandas.core.frame.DataFrame'>\n",
            "RangeIndex: 200 entries, 0 to 199\n",
            "Data columns (total 5 columns):\n",
            " #   Column           Non-Null Count  Dtype  \n",
            "---  ------           --------------  -----  \n",
            " 0   ticket_id        200 non-null    object \n",
            " 1   text             200 non-null    object \n",
            " 2   category         200 non-null    object \n",
            " 3   priority         200 non-null    object \n",
            " 4   resolution_time  200 non-null    float64\n",
            "dtypes: float64(1), object(4)\n",
            "memory usage: 7.9+ KB\n"
          ]
        }
      ]
    },
    {
      "cell_type": "code",
      "source": [
        "category_encoder = LabelEncoder()\n",
        "df['category_encoded'] = category_encoder.fit_transform(df['category'])\n"
      ],
      "metadata": {
        "id": "aHmCzz96h_uM"
      },
      "execution_count": 7,
      "outputs": []
    },
    {
      "cell_type": "code",
      "source": [
        "# Custom Dataset class for USE embeddings\n",
        "class USEDataset(Dataset):\n",
        "    def __init__(self, texts, labels, use_model):\n",
        "        self.texts = texts\n",
        "        self.labels = labels\n",
        "        self.embeddings = self._generate_embeddings(use_model)\n",
        "\n",
        "    def _generate_embeddings(self, model):\n",
        "        \"\"\"Generate USE embeddings for all texts\"\"\"\n",
        "        return model(self.texts).numpy()\n",
        "\n",
        "    def __len__(self):\n",
        "        return len(self.texts)\n",
        "\n",
        "    def __getitem__(self, idx):\n",
        "        return {\n",
        "            'text': self.texts[idx],\n",
        "            'embedding': torch.tensor(self.embeddings[idx], dtype=torch.float32),\n",
        "            'label': torch.tensor(self.labels[idx], dtype=torch.long)\n",
        "        }"
      ],
      "metadata": {
        "id": "2dZOWZ2XjVoj"
      },
      "execution_count": 8,
      "outputs": []
    },
    {
      "cell_type": "code",
      "source": [
        "# Analyze data distribution\n",
        "def plot_category_distribution():\n",
        "    plt.figure(figsize=(10, 6))\n",
        "    df['category'].value_counts().plot(kind='bar')\n",
        "    plt.title('Distribution of Complaint Categories')\n",
        "    plt.xlabel('Category')\n",
        "    plt.ylabel('Count')\n",
        "    plt.xticks(rotation=45)\n",
        "    plt.tight_layout()\n",
        "    plt.show()\n",
        "\n",
        "plot_category_distribution()"
      ],
      "metadata": {
        "colab": {
          "base_uri": "https://localhost:8080/",
          "height": 607
        },
        "id": "qesCQDGMjWML",
        "outputId": "eb527bb1-573e-4931-f5f1-3220b854dd10"
      },
      "execution_count": 9,
      "outputs": [
        {
          "output_type": "display_data",
          "data": {
            "text/plain": [
              "<Figure size 1000x600 with 1 Axes>"
            ],
            "image/png": "[encoded data removed]"
          },
          "metadata": {}
        }
      ]
    },
    {
      "cell_type": "markdown",
      "source": [
        "## 2. Understanding USE Embeddings\n",
        "\n",
        "\n"
      ],
      "metadata": {
        "id": "TBEZVqh-jc8i"
      }
    },
    {
      "cell_type": "code",
      "source": [
        "def analyze_use_embeddings():\n",
        "    \"\"\"Analyze and visualize USE embeddings\"\"\"\n",
        "    # Generate embeddings for sample texts\n",
        "    sample_complaints = [\n",
        "        \"Network connection is very slow\",\n",
        "        \"My internet is not working\",\n",
        "        \"Billing charges are incorrect\",\n",
        "        \"Need to upgrade my plan\",\n",
        "        \"Poor network coverage in my area\"\n",
        "    ]\n",
        "\n",
        "    # Get embeddings\n",
        "    embeddings = use_model(sample_complaints).numpy()\n",
        "\n",
        "    print(\"Embedding Analysis:\")\n",
        "    print(f\"Embedding shape: {embeddings.shape}\")\n",
        "    print(f\"Each sentence is converted to a {embeddings.shape[1]}-dimensional vector\\n\")\n",
        "\n",
        "    # Compute similarity matrix\n",
        "    similarity_matrix = np.inner(embeddings, embeddings)\n",
        "\n",
        "    # Visualize similarity matrix\n",
        "    plt.figure(figsize=(10, 8))\n",
        "    sns.heatmap(similarity_matrix,\n",
        "                xticklabels=['Comp1', 'Comp2', 'Comp3', 'Comp4', 'Comp5'],\n",
        "                yticklabels=['Comp1', 'Comp2', 'Comp3', 'Comp4', 'Comp5'],\n",
        "                cmap='YlOrRd')\n",
        "    plt.title('Semantic Similarity Matrix of Sample Complaints')\n",
        "    plt.show()\n",
        "\n",
        "    return embeddings\n"
      ],
      "metadata": {
        "id": "uGzKDBwijau3"
      },
      "execution_count": 10,
      "outputs": []
    },
    {
      "cell_type": "code",
      "source": [
        "\n",
        "# Analyze sample embeddings\n",
        "sample_embeddings = analyze_use_embeddings()\n",
        ""
      ],
      "metadata": {
        "colab": {
          "base_uri": "https://localhost:8080/",
          "height": 768
        },
        "id": "KnRUrUBcjash",
        "outputId": "4653ad37-e78a-42ec-f797-5356577bb4f9"
      },
      "execution_count": 11,
      "outputs": [
        {
          "output_type": "stream",
          "name": "stdout",
          "text": [
            "Embedding Analysis:\n",
            "Embedding shape: (5, 512)\n",
            "Each sentence is converted to a 512-dimensional vector\n",
            "\n"
          ]
        },
        {
          "output_type": "display_data",
          "data": {
            "text/plain": [
              "<Figure size 1000x800 with 2 Axes>"
            ],
            "image/png": "[encoded data removed]"
          },
          "metadata": {}
        }
      ]
    },
    {
      "cell_type": "markdown",
      "source": [
        "## 3. Visualizing USE Embeddings with UMAP\n"
      ],
      "metadata": {
        "id": "GGbaCh6aj0D9"
      }
    },
    {
      "cell_type": "code",
      "source": [
        "def visualize_embeddings():\n",
        "    \"\"\"Generate and visualize USE embeddings for all complaints\"\"\"\n",
        "    # Generate embeddings for all complaints\n",
        "    all_embeddings = use_model(df['text'].tolist()).numpy()\n",
        "\n",
        "    # Reduce dimensionality with UMAP\n",
        "    reducer = umap.UMAP(n_neighbors=15, # Using correct UMAP import\n",
        "                       min_dist=0.1,\n",
        "                       random_state=42)\n",
        "    embedding_2d = reducer.fit_transform(all_embeddings)\n",
        "\n",
        "    # Plot reduced embeddings\n",
        "    plt.figure(figsize=(12, 8))\n",
        "    scatter = plt.scatter(embedding_2d[:, 0],\n",
        "                         embedding_2d[:, 1],\n",
        "                         c=df['category_encoded'],\n",
        "                         cmap='tab10')\n",
        "    plt.title('2D Visualization of USE Embeddings')\n",
        "    plt.colorbar(scatter, label='Category')\n",
        "\n",
        "    # Add category labels\n",
        "    categories = category_encoder.classes_\n",
        "    handles = [plt.Rectangle((0,0),1,1, color=plt.cm.tab10(i/len(categories)))\n",
        "              for i in range(len(categories))]\n",
        "    plt.legend(handles, categories, title=\"Categories\")\n",
        "    plt.show()\n",
        "\n",
        "    return all_embeddings"
      ],
      "metadata": {
        "id": "Ex7o8IBGjaqS"
      },
      "execution_count": 13,
      "outputs": []
    },
    {
      "cell_type": "code",
      "source": [
        "# Generate and visualize embeddings\n",
        "all_embeddings = visualize_embeddings()"
      ],
      "metadata": {
        "colab": {
          "base_uri": "https://localhost:8080/",
          "height": 768
        },
        "id": "wn9HH7qAjant",
        "outputId": "4172ae94-0878-4df9-e101-257c11376158"
      },
      "execution_count": 14,
      "outputs": [
        {
          "output_type": "stream",
          "name": "stderr",
          "text": [
            "/usr/local/lib/python3.10/dist-packages/sklearn/utils/deprecation.py:151: FutureWarning: 'force_all_finite' was renamed to 'ensure_all_finite' in 1.6 and will be removed in 1.8.\n",
            "  warnings.warn(\n",
            "/usr/local/lib/python3.10/dist-packages/umap/umap_.py:1952: UserWarning: n_jobs value 1 overridden to 1 by setting random_state. Use no seed for parallelism.\n",
            "  warn(\n"
          ]
        },
        {
          "output_type": "display_data",
          "data": {
            "text/plain": [
              "<Figure size 1200x800 with 2 Axes>"
            ],
            "image/png": "[encoded data removed]"
          },
          "metadata": {}
        }
      ]
    },
    {
      "cell_type": "markdown",
      "source": [
        "## 4. Semantic Similarity Analysis\n"
      ],
      "metadata": {
        "id": "422hdnzvk9I5"
      }
    },
    {
      "cell_type": "code",
      "source": [
        "def analyze_semantic_similarity(query_text, top_k=5):\n",
        "    \"\"\"Find semantically similar complaints\"\"\"\n",
        "    # Generate embedding for query text\n",
        "    query_embedding = use_model([query_text]).numpy()\n",
        "\n",
        "    # Generate embeddings for all complaints if not already done\n",
        "    all_embeddings = use_model(df['text'].tolist()).numpy()\n",
        "\n",
        "    # Compute similarities\n",
        "    similarities = np.inner(query_embedding, all_embeddings)[0]\n",
        "\n",
        "    # Get top-k similar complaints\n",
        "    top_indices = np.argsort(similarities)[-top_k:][::-1]\n",
        "\n",
        "    print(f\"Query: {query_text}\\n\")\n",
        "    print(\"Most similar complaints:\")\n",
        "    for idx in top_indices:\n",
        "        print(f\"\\nSimilarity Score: {similarities[idx]:.3f}\")\n",
        "        print(f\"Text: {df['text'].iloc[idx]}\")\n",
        "        print(f\"Category: {df['category'].iloc[idx]}\")"
      ],
      "metadata": {
        "id": "bkh5Ucmvjak-"
      },
      "execution_count": 15,
      "outputs": []
    },
    {
      "cell_type": "code",
      "source": [
        "query = \"Internet connection is very slow in my area\"\n",
        "analyze_semantic_similarity(query)"
      ],
      "metadata": {
        "colab": {
          "base_uri": "https://localhost:8080/"
        },
        "id": "bc5DDYBljadp",
        "outputId": "be329537-390e-4008-c1e1-0cd1f21f3b76"
      },
      "execution_count": 16,
      "outputs": [
        {
          "output_type": "stream",
          "name": "stdout",
          "text": [
            "Query: Internet connection is very slow in my area\n",
            "\n",
            "Most similar complaints:\n",
            "\n",
            "Similarity Score: 0.637\n",
            "Text: Experiencing slow internet speeds during peak hours\n",
            "Category: Network\n",
            "\n",
            "Similarity Score: 0.448\n",
            "Text: Internet bandwidth upgrade query\n",
            "Category: Network\n",
            "\n",
            "Similarity Score: 0.440\n",
            "Text: Network keeps dropping intermittently in downtown area\n",
            "Category: Network\n",
            "\n",
            "Similarity Score: 0.429\n",
            "Text: Cannot connect to 5G network at home office\n",
            "Category: Network\n",
            "\n",
            "Similarity Score: 0.427\n",
            "Text: Cannot connect to public Wi-Fi hotspots\n",
            "Category: Network\n"
          ]
        }
      ]
    },
    {
      "cell_type": "markdown",
      "source": [
        "## 5. Building Classification Model Using USE Embeddings\n"
      ],
      "metadata": {
        "id": "3Ep98feplPPF"
      }
    },
    {
      "cell_type": "code",
      "source": [
        "class ComplaintClassifier(nn.Module):\n",
        "    def __init__(self, input_dim=512, num_classes=4):\n",
        "        super().__init__()\n",
        "        self.classifier = nn.Sequential(\n",
        "            nn.Linear(input_dim, 256),\n",
        "            nn.ReLU(),\n",
        "            nn.Dropout(0.2),\n",
        "            nn.Linear(256, 128),\n",
        "            nn.ReLU(),\n",
        "            nn.Dropout(0.2),\n",
        "            nn.Linear(128, num_classes)\n",
        "        )\n",
        "\n",
        "    def forward(self, x):\n",
        "        return self.classifier(x)\n"
      ],
      "metadata": {
        "id": "I2tixzFklK5J"
      },
      "execution_count": 20,
      "outputs": []
    },
    {
      "cell_type": "code",
      "source": [
        "# Split data\n",
        "# First split the indices to maintain alignment\n",
        "indices = np.arange(len(df))\n",
        "train_indices, test_indices = train_test_split(\n",
        "    indices, test_size=0.2, random_state=42\n",
        ")"
      ],
      "metadata": {
        "id": "dzsKK5MIlSCe"
      },
      "execution_count": 21,
      "outputs": []
    },
    {
      "cell_type": "code",
      "source": [
        "# Create datasets using indices\n",
        "train_dataset = USEDataset(\n",
        "    df['text'].iloc[train_indices].tolist(),\n",
        "    df['category_encoded'].iloc[train_indices].values,\n",
        "    use_model\n",
        ")\n",
        "\n",
        "test_dataset = USEDataset(\n",
        "    df['text'].iloc[test_indices].tolist(),\n",
        "    df['category_encoded'].iloc[test_indices].values,\n",
        "    use_model\n",
        ")"
      ],
      "metadata": {
        "id": "TcMfoKt_lVvF"
      },
      "execution_count": 22,
      "outputs": []
    },
    {
      "cell_type": "code",
      "source": [
        "# Create dataloaders\n",
        "train_loader = DataLoader(train_dataset, batch_size=32, shuffle=True)\n",
        "test_loader = DataLoader(test_dataset, batch_size=32)\n",
        "\n",
        "# Initialize model, loss function, and optimizer\n",
        "model = ComplaintClassifier(num_classes=len(category_encoder.classes_))\n",
        "criterion = nn.CrossEntropyLoss()\n",
        "optimizer = optim.Adam(model.parameters(), lr=0.001)\n"
      ],
      "metadata": {
        "id": "7sCEnMwylYTF"
      },
      "execution_count": 23,
      "outputs": []
    },
    {
      "cell_type": "markdown",
      "source": [
        "## 6. Training and Evaluation\n"
      ],
      "metadata": {
        "id": "zX9xCSG9l3qJ"
      }
    },
    {
      "cell_type": "code",
      "source": [
        "def train_model(model, train_loader, criterion, optimizer, num_epochs=10):\n",
        "    \"\"\"Train the classification model\"\"\"\n",
        "    model.train()\n",
        "    for epoch in range(num_epochs):\n",
        "        total_loss = 0\n",
        "        for batch in tqdm(train_loader, desc=f'Epoch {epoch+1}/{num_epochs}'):\n",
        "            optimizer.zero_grad()\n",
        "            outputs = model(batch['embedding'])\n",
        "            loss = criterion(outputs, batch['label'])\n",
        "            loss.backward()\n",
        "            optimizer.step()\n",
        "            total_loss += loss.item()\n",
        "\n",
        "        print(f'Epoch {epoch+1}, Loss: {total_loss/len(train_loader):.4f}')\n"
      ],
      "metadata": {
        "id": "weqorZ0ql8Dp"
      },
      "execution_count": 24,
      "outputs": []
    },
    {
      "cell_type": "code",
      "source": [
        "\n",
        "def evaluate_model(model, test_loader):\n",
        "    \"\"\"Evaluate the model performance\"\"\"\n",
        "    model.eval()\n",
        "    all_preds = []\n",
        "    all_labels = []\n",
        "\n",
        "    with torch.no_grad():\n",
        "        for batch in test_loader:\n",
        "            outputs = model(batch['embedding'])\n",
        "            _, predictions = torch.max(outputs, 1)\n",
        "            all_preds.extend(predictions.numpy())\n",
        "            all_labels.extend(batch['label'].numpy())\n",
        "\n",
        "    # Convert numeric predictions back to categories\n",
        "    pred_categories = category_encoder.inverse_transform(all_preds)\n",
        "    true_categories = category_encoder.inverse_transform(all_labels)\n",
        "\n",
        "    # Print classification report\n",
        "    print(\"\\nClassification Report:\")\n",
        "    print(classification_report(true_categories, pred_categories))\n",
        "\n",
        "    # Plot confusion matrix\n",
        "    cm = confusion_matrix(true_categories, pred_categories)\n",
        "    plt.figure(figsize=(10, 8))\n",
        "    sns.heatmap(cm, annot=True, fmt='d',\n",
        "                xticklabels=category_encoder.classes_,\n",
        "                yticklabels=category_encoder.classes_)\n",
        "    plt.title('Confusion Matrix')\n",
        "    plt.xlabel('Predicted')\n",
        "    plt.ylabel('True')\n",
        "    plt.tight_layout()\n",
        "    plt.show()"
      ],
      "metadata": {
        "id": "jttzsoZTl4Qe"
      },
      "execution_count": 25,
      "outputs": []
    },
    {
      "cell_type": "code",
      "source": [
        "# Train and evaluate the model\n",
        "train_model(model, train_loader, criterion, optimizer)\n"
      ],
      "metadata": {
        "colab": {
          "base_uri": "https://localhost:8080/"
        },
        "id": "iz-YeixBl_xm",
        "outputId": "b4ef16c5-99cf-445a-a8cf-70d258757754"
      },
      "execution_count": 26,
      "outputs": [
        {
          "output_type": "stream",
          "name": "stderr",
          "text": [
            "Epoch 1/10: 100%|██████████| 5/5 [00:00<00:00,  9.75it/s]\n"
          ]
        },
        {
          "output_type": "stream",
          "name": "stdout",
          "text": [
            "Epoch 1, Loss: 1.3805\n"
          ]
        },
        {
          "output_type": "stream",
          "name": "stderr",
          "text": [
            "Epoch 2/10: 100%|██████████| 5/5 [00:00<00:00, 60.09it/s]\n"
          ]
        },
        {
          "output_type": "stream",
          "name": "stdout",
          "text": [
            "Epoch 2, Loss: 1.3528\n"
          ]
        },
        {
          "output_type": "stream",
          "name": "stderr",
          "text": [
            "Epoch 3/10: 100%|██████████| 5/5 [00:00<00:00, 94.33it/s]\n"
          ]
        },
        {
          "output_type": "stream",
          "name": "stdout",
          "text": [
            "Epoch 3, Loss: 1.3074\n"
          ]
        },
        {
          "output_type": "stream",
          "name": "stderr",
          "text": [
            "Epoch 4/10: 100%|██████████| 5/5 [00:00<00:00, 95.04it/s]\n"
          ]
        },
        {
          "output_type": "stream",
          "name": "stdout",
          "text": [
            "Epoch 4, Loss: 1.2347\n"
          ]
        },
        {
          "output_type": "stream",
          "name": "stderr",
          "text": [
            "Epoch 5/10: 100%|██████████| 5/5 [00:00<00:00, 78.91it/s]\n"
          ]
        },
        {
          "output_type": "stream",
          "name": "stdout",
          "text": [
            "Epoch 5, Loss: 1.1213\n"
          ]
        },
        {
          "output_type": "stream",
          "name": "stderr",
          "text": [
            "Epoch 6/10: 100%|██████████| 5/5 [00:00<00:00, 73.68it/s]\n"
          ]
        },
        {
          "output_type": "stream",
          "name": "stdout",
          "text": [
            "Epoch 6, Loss: 0.9537\n"
          ]
        },
        {
          "output_type": "stream",
          "name": "stderr",
          "text": [
            "Epoch 7/10: 100%|██████████| 5/5 [00:00<00:00, 64.21it/s]\n"
          ]
        },
        {
          "output_type": "stream",
          "name": "stdout",
          "text": [
            "Epoch 7, Loss: 0.7679\n"
          ]
        },
        {
          "output_type": "stream",
          "name": "stderr",
          "text": [
            "Epoch 8/10: 100%|██████████| 5/5 [00:00<00:00, 63.70it/s]\n"
          ]
        },
        {
          "output_type": "stream",
          "name": "stdout",
          "text": [
            "Epoch 8, Loss: 0.5590\n"
          ]
        },
        {
          "output_type": "stream",
          "name": "stderr",
          "text": [
            "Epoch 9/10: 100%|██████████| 5/5 [00:00<00:00, 110.59it/s]\n"
          ]
        },
        {
          "output_type": "stream",
          "name": "stdout",
          "text": [
            "Epoch 9, Loss: 0.4015\n"
          ]
        },
        {
          "output_type": "stream",
          "name": "stderr",
          "text": [
            "Epoch 10/10: 100%|██████████| 5/5 [00:00<00:00, 152.92it/s]"
          ]
        },
        {
          "output_type": "stream",
          "name": "stdout",
          "text": [
            "Epoch 10, Loss: 0.2939\n"
          ]
        },
        {
          "output_type": "stream",
          "name": "stderr",
          "text": [
            "\n"
          ]
        }
      ]
    },
    {
      "cell_type": "code",
      "source": [
        "evaluate_model(model, test_loader)"
      ],
      "metadata": {
        "colab": {
          "base_uri": "https://localhost:8080/",
          "height": 1000
        },
        "id": "JpkpXsVZmBPg",
        "outputId": "012c591d-d2d1-439f-e4ec-3280beba8344"
      },
      "execution_count": 27,
      "outputs": [
        {
          "output_type": "stream",
          "name": "stdout",
          "text": [
            "\n",
            "Classification Report:\n",
            "              precision    recall  f1-score   support\n",
            "\n",
            "     Account       0.88      0.88      0.88         8\n",
            "     Billing       0.67      0.89      0.76         9\n",
            "     Network       0.92      0.80      0.86        15\n",
            "   Technical       1.00      0.88      0.93         8\n",
            "\n",
            "    accuracy                           0.85        40\n",
            "   macro avg       0.87      0.86      0.86        40\n",
            "weighted avg       0.87      0.85      0.85        40\n",
            "\n"
          ]
        },
        {
          "output_type": "display_data",
          "data": {
            "text/plain": [
              "<Figure size 1000x800 with 2 Axes>"
            ],
            "image/png": "[encoded data removed]"
          },
          "metadata": {}
        }
      ]
    },
    {
      "cell_type": "markdown",
      "source": [
        "\n",
        "## Model Performance Summary\n",
        "\n",
        "### Overall Performance\n",
        "- Overall accuracy: 85%\n",
        "- Weighted average F1-score: 0.85\n",
        "- Consistent performance across categories\n",
        "\n",
        "### Category-wise Analysis:\n",
        "\n",
        "1. **Technical Complaints**\n",
        "   - Highest precision (1.00)\n",
        "   - Strong F1-score (0.93)\n",
        "   - 7 out of 8 technical issues correctly identified\n",
        "   - No false positives, indicating high reliability\n",
        "\n",
        "2. **Network Issues**\n",
        "   - High precision (0.92)\n",
        "   - Good F1-score (0.86)\n",
        "   - 12 correct classifications out of 15 cases\n",
        "   - Some confusion with billing issues (3 cases)\n",
        "\n",
        "3. **Account-related Issues**\n",
        "   - Solid performance (F1-score: 0.88)\n",
        "   - Balanced precision and recall\n",
        "   - Minor confusion with billing category\n",
        "\n",
        "4. **Billing Issues**\n",
        "   - Lower precision (0.67) but good recall (0.89)\n",
        "   - Most billing issues correctly identified (8 out of 9)\n",
        "   - Some overlap with other categories\n",
        "\n",
        "## Key Findings\n",
        "\n",
        "1. **USE Effectiveness:**\n",
        "   - Successfully captured semantic relationships in telecom domain\n",
        "   - Demonstrated strong performance in technical complaint identification\n",
        "   - Effective at distinguishing between similar categories\n",
        "\n",
        "2. **Areas of Strength:**\n",
        "   - Technical issue identification\n",
        "   - Network problem classification\n",
        "   - Account-related complaint detection\n",
        "\n",
        "3. **Areas for Improvement:**\n",
        "   - Billing category precision\n",
        "   - Network-Billing disambiguation\n",
        "   - Edge cases in category overlap\n",
        "\n",
        "## Recommendations for Implementation\n",
        "\n",
        "1. **Model Application:**\n",
        "   - Highly reliable for technical and network issues\n",
        "   - Can be used for automated ticket routing\n",
        "   - Suitable for initial complaint categorization\n",
        "\n",
        "2. **Deployment Considerations:**\n",
        "   - Implement confidence thresholds for automated decisions\n",
        "   - Consider human review for billing-related cases\n",
        "   - Monitor performance on edge cases\n",
        "\n",
        "3. **Future Improvements:**\n",
        "   - Collect more training data for billing category\n",
        "   - Consider domain-specific fine-tuning\n",
        "   - Implement ensemble approaches for ambiguous cases"
      ],
      "metadata": {
        "id": "LFc8kFnZntt0"
      }
    },
    {
      "cell_type": "code",
      "source": [],
      "metadata": {
        "id": "xj0aavdGnuR8"
      },
      "execution_count": null,
      "outputs": []
    }
  ]
}