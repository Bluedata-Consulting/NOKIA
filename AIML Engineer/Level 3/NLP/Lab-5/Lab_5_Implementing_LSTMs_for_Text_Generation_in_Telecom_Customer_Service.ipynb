{
  "nbformat": 4,
  "nbformat_minor": 0,
  "metadata": {
    "colab": {
      "provenance": []
    },
    "kernelspec": {
      "name": "python3",
      "display_name": "Python 3"
    },
    "language_info": {
      "name": "python"
    }
  },
  "cells": [
    {
      "cell_type": "markdown",
      "source": [
        "\n",
        "#Lab 5: Implementing LSTMs for Text Generation in Telecom Customer Service\n",
        "\n",
        "# Objective\n",
        "\n",
        "This laboratory session focuses on implementing Long Short-Term Memory (LSTM) networks for generating telecom customer service responses. Using real customer service conversation data, we will build a model that can generate contextually appropriate responses for common telecom service scenarios. This practical implementation builds upon the sequence-to-sequence concepts covered in Session 1, demonstrating how LSTMs can be used to capture long-term dependencies in conversation flows.\n",
        "\n",
        "---\n",
        "\n",
        "# Dataset Overview\n",
        "\n",
        "We are working with a telecom customer service dataset containing conversations between agents and customers.\n",
        "\n",
        "## Data Dictionary\n",
        "\n",
        "- **conversation_id**: Unique identifier for each conversation thread  \n",
        "- **timestamp**: Timestamp of each message  \n",
        "- **text**: The actual message content  \n",
        "- **speaker_type**: Identifies the speaker as either 'agent' or 'customer'  \n",
        "- **category**: The type of service issue being discussed  \n",
        "- **resolution_status**: Current status of the conversation  \n"
      ],
      "metadata": {
        "id": "9c5MTf7joZBV"
      }
    },
    {
      "cell_type": "markdown",
      "source": [
        "#  1: Data Preparation and Preprocessing"
      ],
      "metadata": {
        "id": "LJdlrdxlov3W"
      }
    },
    {
      "cell_type": "code",
      "execution_count": 27,
      "metadata": {
        "id": "nBOxApLHVHH_"
      },
      "outputs": [],
      "source": [
        "import torch\n",
        "import torch.nn as nn\n",
        "import torch.optim as optim\n",
        "import numpy as np\n",
        "import pandas as pd\n",
        "from torch.utils.data import Dataset, DataLoader\n",
        "from collections import Counter\n",
        "import re\n",
        "import matplotlib.pyplot as plt\n",
        "from tqdm import tqdm\n",
        "\n",
        "# Set random seeds for reproducibility\n",
        "torch.manual_seed(42)\n",
        "np.random.seed(42)\n"
      ]
    },
    {
      "cell_type": "code",
      "source": [
        "# Load the dataset\n",
        "df = pd.read_excel('/content/Customer_Conversation.xlsx')\n",
        "\n",
        "# Display first few rows and basic information\n",
        "print(\"Dataset Overview:\")\n",
        "print(\"-\" * 50)\n",
        "print(df.info())\n",
        "print(\"\\nFirst few rows:\")\n",
        "print(df.head())"
      ],
      "metadata": {
        "colab": {
          "base_uri": "https://localhost:8080/"
        },
        "id": "I0uPxnc5ou-h",
        "outputId": "9a1988f9-73ec-4703-c426-c337a33f4a18"
      },
      "execution_count": 28,
      "outputs": [
        {
          "output_type": "stream",
          "name": "stdout",
          "text": [
            "Dataset Overview:\n",
            "--------------------------------------------------\n",
            "<class 'pandas.core.frame.DataFrame'>\n",
            "RangeIndex: 341 entries, 0 to 340\n",
            "Data columns (total 6 columns):\n",
            " #   Column             Non-Null Count  Dtype         \n",
            "---  ------             --------------  -----         \n",
            " 0   conversation_id    341 non-null    object        \n",
            " 1   timestamp          341 non-null    datetime64[ns]\n",
            " 2   text               341 non-null    object        \n",
            " 3   speaker_type       341 non-null    object        \n",
            " 4   category           341 non-null    object        \n",
            " 5   resolution_status  341 non-null    object        \n",
            "dtypes: datetime64[ns](1), object(5)\n",
            "memory usage: 16.1+ KB\n",
            "None\n",
            "\n",
            "First few rows:\n",
            "  conversation_id               timestamp  \\\n",
            "0         CONV001 2024-04-15 07:48:22.180   \n",
            "1         CONV001 2024-04-15 07:50:22.180   \n",
            "2         CONV001 2024-04-15 07:53:22.180   \n",
            "3         CONV001 2024-04-15 07:55:22.180   \n",
            "4         CONV001 2024-04-15 07:58:22.180   \n",
            "\n",
            "                                                text speaker_type  \\\n",
            "0  Hi there! I'm here to help with your technical...        agent   \n",
            "1        I'm unable to access my service activation.     customer   \n",
            "2               Let me check your connection status.        agent   \n",
            "3             The error message is still showing up.     customer   \n",
            "4    Could you check if your firmware is up to date?        agent   \n",
            "\n",
            "             category resolution_status  \n",
            "0  Service Activation       In Progress  \n",
            "1  Service Activation       In Progress  \n",
            "2  Service Activation       In Progress  \n",
            "3  Service Activation       In Progress  \n",
            "4  Service Activation       In Progress  \n"
          ]
        }
      ]
    },
    {
      "cell_type": "code",
      "source": [
        "def preprocess_text(text):\n",
        "    \"\"\"\n",
        "    Preprocess the text data\n",
        "    \"\"\"\n",
        "    if isinstance(text, str):  # Check if input is a string\n",
        "        # Convert to lowercase\n",
        "        text = text.lower()\n",
        "\n",
        "        # Remove special characters and digits\n",
        "        text = re.sub(r'[^a-zA-Z\\s]', '', text)\n",
        "\n",
        "        # Remove extra whitespace\n",
        "        text = ' '.join(text.split())\n",
        "\n",
        "        return text\n",
        "    return \"\""
      ],
      "metadata": {
        "id": "SIM9KZQE0m2d"
      },
      "execution_count": 31,
      "outputs": []
    },
    {
      "cell_type": "code",
      "source": [
        "# Apply preprocessing to text column\n",
        "df['processed_text'] = df['text'].apply(preprocess_text)\n",
        "\n",
        "# Print some statistics about the raw data\n",
        "print(\"Dataset Statistics:\")\n",
        "print(\"-\" * 50)\n",
        "print(\"Total messages:\", len(df))\n",
        "print(\"Speaker type distribution:\")\n",
        "print(df['speaker_type'].value_counts())\n",
        "print(\"\\nSample raw texts:\")\n",
        "print(\"-\" * 50)\n",
        "print(df['text'].head())\n",
        "print(\"\\nSample processed texts:\")\n",
        "print(\"-\" * 50)\n",
        "print(df['processed_text'].head())\n"
      ],
      "metadata": {
        "colab": {
          "base_uri": "https://localhost:8080/"
        },
        "id": "Lr1Ze3iV0h0p",
        "outputId": "3cb5273f-2084-4dd6-86ed-c3b00d9df899"
      },
      "execution_count": 36,
      "outputs": [
        {
          "output_type": "stream",
          "name": "stdout",
          "text": [
            "Dataset Statistics:\n",
            "--------------------------------------------------\n",
            "Total messages: 341\n",
            "Speaker type distribution:\n",
            "speaker_type\n",
            "agent       228\n",
            "customer    113\n",
            "Name: count, dtype: int64\n",
            "\n",
            "Sample raw texts:\n",
            "--------------------------------------------------\n",
            "0    Hi there! I'm here to help with your technical...\n",
            "1          I'm unable to access my service activation.\n",
            "2                 Let me check your connection status.\n",
            "3               The error message is still showing up.\n",
            "4      Could you check if your firmware is up to date?\n",
            "Name: text, dtype: object\n",
            "\n",
            "Sample processed texts:\n",
            "--------------------------------------------------\n",
            "0    hi there im here to help with your technical c...\n",
            "1            im unable to access my service activation\n",
            "2                  let me check your connection status\n",
            "3                the error message is still showing up\n",
            "4       could you check if your firmware is up to date\n",
            "Name: processed_text, dtype: object\n"
          ]
        }
      ]
    },
    {
      "cell_type": "code",
      "source": [
        "# Separate conversations by speaker type\n",
        "agent_texts = df[df['speaker_type'] == 'agent']['processed_text'].tolist()\n",
        "customer_texts = df[df['speaker_type'] == 'customer']['processed_text'].tolist()\n",
        "\n",
        "print(\"\\nMessage Counts:\")\n",
        "print(\"-\" * 50)\n",
        "print(\"Number of agent messages:\", len(agent_texts))\n",
        "print(\"Number of customer messages:\", len(customer_texts))\n"
      ],
      "metadata": {
        "colab": {
          "base_uri": "https://localhost:8080/"
        },
        "id": "btsKtkla1eBv",
        "outputId": "8f435150-ef65-40bd-a239-b979ce867a04"
      },
      "execution_count": 37,
      "outputs": [
        {
          "output_type": "stream",
          "name": "stdout",
          "text": [
            "\n",
            "Message Counts:\n",
            "--------------------------------------------------\n",
            "Number of agent messages: 228\n",
            "Number of customer messages: 113\n"
          ]
        }
      ]
    },
    {
      "cell_type": "code",
      "source": [
        "class Vocabulary:\n",
        "    def __init__(self):\n",
        "        self.word2idx = {'<PAD>': 0, '<START>': 1, '<END>': 2, '<UNK>': 3}\n",
        "        self.idx2word = {0: '<PAD>', 1: '<START>', 2: '<END>', 3: '<UNK>'}\n",
        "        self.word_counts = Counter()\n",
        "        self.min_freq = 1  # Reduced minimum frequency\n",
        "\n",
        "    def build_vocabulary(self, texts):\n",
        "        # Count words\n",
        "        for text in texts:\n",
        "            self.word_counts.update(text.split())\n",
        "\n",
        "        # Add words that appear more than min_freq times\n",
        "        for word, count in self.word_counts.items():\n",
        "            if count >= self.min_freq and word not in self.word2idx:\n",
        "                self.word2idx[word] = len(self.word2idx)\n",
        "                self.idx2word[len(self.idx2word)] = word\n",
        "\n",
        "        print(f\"Top 10 most common words: {self.word_counts.most_common(10)}\")\n",
        "\n",
        "    def text_to_sequence(self, text):\n",
        "        return [self.word2idx.get(word, self.word2idx['<UNK>'])\n",
        "                for word in text.split()]\n",
        "\n",
        "    def sequence_to_text(self, sequence):\n",
        "        return ' '.join([self.idx2word[idx] for idx in sequence])\n",
        "\n",
        "# Create and build vocabularies\n",
        "agent_vocab = Vocabulary()\n",
        "customer_vocab = Vocabulary()\n",
        "\n",
        "print(\"\\nBuilding vocabularies...\")\n",
        "agent_vocab.build_vocabulary(agent_texts)\n",
        "customer_vocab.build_vocabulary(customer_texts)\n",
        "\n",
        "print(\"\\nVocabulary Statistics:\")\n",
        "print(\"-\" * 50)\n",
        "print(\"Agent vocabulary size:\", len(agent_vocab.word2idx))\n",
        "print(\"Customer vocabulary size:\", len(customer_vocab.word2idx))\n"
      ],
      "metadata": {
        "colab": {
          "base_uri": "https://localhost:8080/"
        },
        "id": "NaVdh-Tm0vX4",
        "outputId": "086c695d-0a87-4d54-d7a3-e23117859d0d"
      },
      "execution_count": 38,
      "outputs": [
        {
          "output_type": "stream",
          "name": "stdout",
          "text": [
            "\n",
            "Building vocabularies...\n",
            "Top 10 most common words: [('you', 119), ('your', 113), ('to', 55), ('the', 49), ('try', 46), ('help', 38), ('check', 37), ('for', 36), ('again', 36), ('on', 35)]\n",
            "Top 10 most common words: [('the', 46), ('im', 32), ('my', 31), ('to', 23), ('that', 23), ('now', 23), ('with', 18), ('having', 17), ('working', 16), ('error', 15)]\n",
            "\n",
            "Vocabulary Statistics:\n",
            "--------------------------------------------------\n",
            "Agent vocabulary size: 134\n",
            "Customer vocabulary size: 92\n"
          ]
        }
      ]
    },
    {
      "cell_type": "code",
      "source": [
        "class ConversationDataset(Dataset):\n",
        "    def __init__(self, texts, vocab, sequence_length=10):  # Reduced sequence length\n",
        "        self.vocab = vocab\n",
        "        self.sequence_length = sequence_length\n",
        "        self.sequences = self.create_sequences(texts)\n",
        "        print(f\"Created {len(self.sequences)} sequences\")\n",
        "\n",
        "    def create_sequences(self, texts):\n",
        "        sequences = []\n",
        "        for text in texts:\n",
        "            # Convert text to indices\n",
        "            indices = self.vocab.text_to_sequence(text)\n",
        "\n",
        "            # Skip empty sequences\n",
        "            if not indices:\n",
        "                continue\n",
        "\n",
        "            # Pad or truncate sequence to fixed length\n",
        "            if len(indices) < self.sequence_length:\n",
        "                # Pad with PAD tokens\n",
        "                indices = indices + [self.vocab.word2idx['<PAD>']] * (self.sequence_length - len(indices))\n",
        "            else:\n",
        "                # Truncate to sequence_length\n",
        "                indices = indices[:self.sequence_length]\n",
        "\n",
        "            # Create target sequence (shifted by one position)\n",
        "            target_sequence = indices[1:] + [self.vocab.word2idx['<END>']]\n",
        "\n",
        "            sequences.append((indices, target_sequence))\n",
        "\n",
        "        return sequences\n",
        "\n",
        "    def __len__(self):\n",
        "        return len(self.sequences)\n",
        "\n",
        "    def __getitem__(self, idx):\n",
        "        input_seq, target_seq = self.sequences[idx]\n",
        "        return (\n",
        "            torch.tensor(input_seq, dtype=torch.long),\n",
        "            torch.tensor(target_seq, dtype=torch.long)\n",
        "        )\n"
      ],
      "metadata": {
        "id": "Nn0enQ9YyoE2"
      },
      "execution_count": 39,
      "outputs": []
    },
    {
      "cell_type": "code",
      "source": [
        "# Create datasets with shorter sequence length\n",
        "sequence_length = 10  # Reduced from 20\n",
        "batch_size = 16      # Reduced from 32\n",
        "\n",
        "print(\"\\nCreating datasets...\")\n",
        "agent_dataset = ConversationDataset(agent_texts, agent_vocab, sequence_length)\n",
        "customer_dataset = ConversationDataset(customer_texts, customer_vocab, sequence_length)\n",
        "\n",
        "# Create dataloaders\n",
        "agent_loader = DataLoader(agent_dataset, batch_size=batch_size, shuffle=True)\n",
        "customer_loader = DataLoader(customer_dataset, batch_size=batch_size, shuffle=True)\n",
        "\n",
        "print(\"\\nDataset Statistics:\")\n",
        "print(\"-\" * 50)\n",
        "print(f\"Number of agent sequences: {len(agent_dataset)}\")\n",
        "print(f\"Number of customer sequences: {len(customer_dataset)}\")\n"
      ],
      "metadata": {
        "colab": {
          "base_uri": "https://localhost:8080/"
        },
        "id": "hyMJN-8TyoCb",
        "outputId": "54aae5a0-7628-4a8b-a085-c816cf19c668"
      },
      "execution_count": 40,
      "outputs": [
        {
          "output_type": "stream",
          "name": "stdout",
          "text": [
            "\n",
            "Creating datasets...\n",
            "Created 228 sequences\n",
            "Created 113 sequences\n",
            "\n",
            "Dataset Statistics:\n",
            "--------------------------------------------------\n",
            "Number of agent sequences: 228\n",
            "Number of customer sequences: 113\n"
          ]
        }
      ]
    },
    {
      "cell_type": "code",
      "source": [
        "# Print sample sequences\n",
        "if len(agent_loader) > 0:\n",
        "    sample_batch_inputs, sample_batch_targets = next(iter(agent_loader))\n",
        "    print(\"\\nSample Batch Shapes:\")\n",
        "    print(f\"Input shape: {sample_batch_inputs.shape}\")\n",
        "    print(f\"Target shape: {sample_batch_targets.shape}\")\n",
        "\n",
        "    print(\"\\nSample Input-Target Pair:\")\n",
        "    input_text = agent_vocab.sequence_to_text(sample_batch_inputs[0].tolist())\n",
        "    target_text = agent_vocab.sequence_to_text(sample_batch_targets[0].tolist())\n",
        "    print(f\"Input:  {input_text}\")\n",
        "    print(f\"Target: {target_text}\")"
      ],
      "metadata": {
        "colab": {
          "base_uri": "https://localhost:8080/"
        },
        "id": "E4C4Wg6Xyn_b",
        "outputId": "e1cbf0df-5606-46a8-dd11-26a5d49e58fc"
      },
      "execution_count": 41,
      "outputs": [
        {
          "output_type": "stream",
          "name": "stdout",
          "text": [
            "\n",
            "Sample Batch Shapes:\n",
            "Input shape: torch.Size([16, 10])\n",
            "Target shape: torch.Size([16, 10])\n",
            "\n",
            "Sample Input-Target Pair:\n",
            "Input:  good day thanks for reaching out to our support team\n",
            "Target: day thanks for reaching out to our support team <END>\n"
          ]
        }
      ]
    },
    {
      "cell_type": "markdown",
      "source": [
        "# 2: LSTM Model Implementation and Training"
      ],
      "metadata": {
        "id": "ZJGU0Mbk2bX3"
      }
    },
    {
      "cell_type": "code",
      "source": [
        "import torch.nn.functional as F\n",
        "from torch.nn.utils import clip_grad_norm_\n",
        "from tqdm import tqdm\n",
        "import time"
      ],
      "metadata": {
        "id": "uoaZyzApyn8r"
      },
      "execution_count": 42,
      "outputs": []
    },
    {
      "cell_type": "code",
      "source": [
        "class LSTMTextGenerator(nn.Module):\n",
        "    def __init__(self, vocab_size, embedding_dim, hidden_dim, num_layers, dropout_rate=0.3):\n",
        "        super(LSTMTextGenerator, self).__init__()\n",
        "\n",
        "        self.hidden_dim = hidden_dim\n",
        "        self.num_layers = num_layers\n",
        "\n",
        "        # Embedding layer\n",
        "        self.embedding = nn.Embedding(vocab_size, embedding_dim, padding_idx=0)\n",
        "\n",
        "        # LSTM layer\n",
        "        self.lstm = nn.LSTM(\n",
        "            embedding_dim,\n",
        "            hidden_dim,\n",
        "            num_layers,\n",
        "            dropout=dropout_rate if num_layers > 1 else 0,\n",
        "            batch_first=True\n",
        "        )\n",
        "\n",
        "        # Output layer\n",
        "        self.fc = nn.Linear(hidden_dim, vocab_size)\n",
        "\n",
        "        # Dropout layer\n",
        "        self.dropout = nn.Dropout(dropout_rate)\n",
        "\n",
        "    def forward(self, x, hidden=None):\n",
        "        # Embed the input\n",
        "        embedded = self.dropout(self.embedding(x))\n",
        "\n",
        "        # Initialize hidden state if not provided\n",
        "        if hidden is None:\n",
        "            hidden = self.init_hidden(x.size(0))\n",
        "\n",
        "        # Forward pass through LSTM\n",
        "        lstm_out, hidden = self.lstm(embedded, hidden)\n",
        "\n",
        "        # Apply dropout\n",
        "        lstm_out = self.dropout(lstm_out)\n",
        "\n",
        "        # Pass through the fully connected layer\n",
        "        output = self.fc(lstm_out)\n",
        "\n",
        "        return output, hidden\n",
        "\n",
        "    def init_hidden(self, batch_size):\n",
        "        weight = next(self.parameters()).data\n",
        "        hidden = (weight.new(self.num_layers, batch_size, self.hidden_dim).zero_(),\n",
        "                 weight.new(self.num_layers, batch_size, self.hidden_dim).zero_())\n",
        "        return hidden\n",
        "\n",
        "def train_model(model, train_loader, criterion, optimizer, scheduler, num_epochs=50, clip=1.0):\n",
        "    model.train()\n",
        "\n",
        "    train_losses = []\n",
        "    best_loss = float('inf')\n",
        "\n",
        "    for epoch in range(num_epochs):\n",
        "        start_time = time.time()\n",
        "        total_loss = 0\n",
        "        h = None\n",
        "\n",
        "        # Progress bar for the batches\n",
        "        progress_bar = tqdm(train_loader, desc=f'Epoch {epoch+1}/{num_epochs}')\n",
        "\n",
        "        for batch_idx, (inputs, targets) in enumerate(progress_bar):\n",
        "            # Reset gradients\n",
        "            optimizer.zero_grad()\n",
        "\n",
        "            # Forward pass\n",
        "            outputs, h = model(inputs)\n",
        "\n",
        "            # Detach hidden states\n",
        "            h = tuple(state.detach() for state in h)\n",
        "\n",
        "            # Reshape outputs and targets for loss calculation\n",
        "            outputs = outputs.view(-1, outputs.size(-1))\n",
        "            targets = targets.view(-1)\n",
        "\n",
        "            # Calculate loss\n",
        "            loss = criterion(outputs, targets)\n",
        "\n",
        "            # Backward pass\n",
        "            loss.backward()\n",
        "\n",
        "            # Clip gradients\n",
        "            clip_grad_norm_(model.parameters(), clip)\n",
        "\n",
        "            # Update weights\n",
        "            optimizer.step()\n",
        "\n",
        "            # Update total loss\n",
        "            total_loss += loss.item()\n",
        "\n",
        "            # Update progress bar\n",
        "            progress_bar.set_postfix({'loss': loss.item()})\n",
        "\n",
        "        # Step the scheduler\n",
        "        scheduler.step()\n",
        "\n",
        "        # Calculate average loss for the epoch\n",
        "        avg_loss = total_loss / len(train_loader)\n",
        "        train_losses.append(avg_loss)\n",
        "\n",
        "        # Print epoch statistics\n",
        "        epoch_time = time.time() - start_time\n",
        "        print(f'\\nEpoch {epoch+1}/{num_epochs}:')\n",
        "        print(f'Average Loss: {avg_loss:.4f}')\n",
        "        print(f'Time: {epoch_time:.2f}s')\n",
        "\n",
        "        # Save best model\n",
        "        if avg_loss < best_loss:\n",
        "            best_loss = avg_loss\n",
        "            torch.save(model.state_dict(), 'best_model.pth')\n",
        "\n",
        "    return train_losses\n"
      ],
      "metadata": {
        "id": "juBOZgpS2fdh"
      },
      "execution_count": 54,
      "outputs": []
    },
    {
      "cell_type": "markdown",
      "source": [
        "# 3: Model Training and Optimization"
      ],
      "metadata": {
        "id": "a5acoMy94-uK"
      }
    },
    {
      "cell_type": "code",
      "source": [
        "# Model hyperparameters\n",
        "embedding_dim = 128  # Reduced from typical 256 due to small dataset\n",
        "hidden_dim = 256    # Reduced from typical 512 due to small dataset\n",
        "num_layers = 2\n",
        "dropout_rate = 0.1\n",
        "learning_rate = 0.001\n",
        "num_epochs = 50\n",
        "\n",
        "# Initialize models\n",
        "agent_model = LSTMTextGenerator(\n",
        "    len(agent_vocab.word2idx),\n",
        "    embedding_dim,\n",
        "    hidden_dim,\n",
        "    num_layers,\n",
        "    dropout_rate\n",
        ")\n",
        "\n",
        "customer_model = LSTMTextGenerator(\n",
        "    len(customer_vocab.word2idx),\n",
        "    embedding_dim,\n",
        "    hidden_dim,\n",
        "    num_layers,\n",
        "    dropout_rate\n",
        ")\n",
        "\n",
        "# Loss function and optimizer for agent model\n",
        "criterion = nn.CrossEntropyLoss(ignore_index=0)  # Ignore padding index\n",
        "optimizer = torch.optim.Adam(agent_model.parameters(), lr=learning_rate)\n",
        "scheduler = torch.optim.lr_scheduler.StepLR(optimizer, step_size=3, gamma=0.1)\n"
      ],
      "metadata": {
        "id": "xOITby1F2jKH"
      },
      "execution_count": 55,
      "outputs": []
    },
    {
      "cell_type": "markdown",
      "source": [],
      "metadata": {
        "id": "u3pwX15G49zE"
      }
    },
    {
      "cell_type": "code",
      "source": [
        "print(\"Training Agent Model:\")\n",
        "print(\"-\" * 50)\n",
        "agent_losses = train_model(agent_model, agent_loader, criterion, optimizer, scheduler)\n",
        "\n",
        "# Plot training loss\n",
        "plt.figure(figsize=(10, 6))\n",
        "plt.plot(agent_losses)\n",
        "plt.title('Training Loss Over Time')\n",
        "plt.xlabel('Epoch')\n",
        "plt.ylabel('Loss')\n",
        "plt.show()"
      ],
      "metadata": {
        "colab": {
          "base_uri": "https://localhost:8080/",
          "height": 1000
        },
        "id": "TsS8Y0Rs2oC8",
        "outputId": "4846b4b2-bc5d-4a33-b764-19d65980d596"
      },
      "execution_count": 56,
      "outputs": [
        {
          "output_type": "stream",
          "name": "stdout",
          "text": [
            "Training Agent Model:\n",
            "--------------------------------------------------\n"
          ]
        },
        {
          "output_type": "stream",
          "name": "stderr",
          "text": [
            "Epoch 1/50: 100%|██████████| 15/15 [00:00<00:00, 19.24it/s, loss=4.26]\n"
          ]
        },
        {
          "output_type": "stream",
          "name": "stdout",
          "text": [
            "\n",
            "Epoch 1/50:\n",
            "Average Loss: 4.6272\n",
            "Time: 0.79s\n"
          ]
        },
        {
          "output_type": "stream",
          "name": "stderr",
          "text": [
            "Epoch 2/50: 100%|██████████| 15/15 [00:00<00:00, 22.76it/s, loss=3.59]\n"
          ]
        },
        {
          "output_type": "stream",
          "name": "stdout",
          "text": [
            "\n",
            "Epoch 2/50:\n",
            "Average Loss: 3.8735\n",
            "Time: 0.67s\n"
          ]
        },
        {
          "output_type": "stream",
          "name": "stderr",
          "text": [
            "Epoch 3/50: 100%|██████████| 15/15 [00:00<00:00, 20.98it/s, loss=3.14]\n"
          ]
        },
        {
          "output_type": "stream",
          "name": "stdout",
          "text": [
            "\n",
            "Epoch 3/50:\n",
            "Average Loss: 3.1147\n",
            "Time: 0.73s\n"
          ]
        },
        {
          "output_type": "stream",
          "name": "stderr",
          "text": [
            "Epoch 4/50: 100%|██████████| 15/15 [00:00<00:00, 22.75it/s, loss=3.27]\n"
          ]
        },
        {
          "output_type": "stream",
          "name": "stdout",
          "text": [
            "\n",
            "Epoch 4/50:\n",
            "Average Loss: 2.6046\n",
            "Time: 0.67s\n"
          ]
        },
        {
          "output_type": "stream",
          "name": "stderr",
          "text": [
            "Epoch 5/50: 100%|██████████| 15/15 [00:00<00:00, 22.50it/s, loss=2.64]\n"
          ]
        },
        {
          "output_type": "stream",
          "name": "stdout",
          "text": [
            "\n",
            "Epoch 5/50:\n",
            "Average Loss: 2.4523\n",
            "Time: 0.68s\n"
          ]
        },
        {
          "output_type": "stream",
          "name": "stderr",
          "text": [
            "Epoch 6/50: 100%|██████████| 15/15 [00:00<00:00, 22.10it/s, loss=2.47]\n"
          ]
        },
        {
          "output_type": "stream",
          "name": "stdout",
          "text": [
            "\n",
            "Epoch 6/50:\n",
            "Average Loss: 2.3484\n",
            "Time: 0.69s\n"
          ]
        },
        {
          "output_type": "stream",
          "name": "stderr",
          "text": [
            "Epoch 7/50: 100%|██████████| 15/15 [00:00<00:00, 22.05it/s, loss=2.11]\n"
          ]
        },
        {
          "output_type": "stream",
          "name": "stdout",
          "text": [
            "\n",
            "Epoch 7/50:\n",
            "Average Loss: 2.2784\n",
            "Time: 0.69s\n"
          ]
        },
        {
          "output_type": "stream",
          "name": "stderr",
          "text": [
            "Epoch 8/50: 100%|██████████| 15/15 [00:00<00:00, 21.50it/s, loss=2.14]\n"
          ]
        },
        {
          "output_type": "stream",
          "name": "stdout",
          "text": [
            "\n",
            "Epoch 8/50:\n",
            "Average Loss: 2.2680\n",
            "Time: 0.71s\n"
          ]
        },
        {
          "output_type": "stream",
          "name": "stderr",
          "text": [
            "Epoch 9/50: 100%|██████████| 15/15 [00:00<00:00, 20.85it/s, loss=2.3]\n"
          ]
        },
        {
          "output_type": "stream",
          "name": "stdout",
          "text": [
            "\n",
            "Epoch 9/50:\n",
            "Average Loss: 2.2734\n",
            "Time: 0.73s\n"
          ]
        },
        {
          "output_type": "stream",
          "name": "stderr",
          "text": [
            "Epoch 10/50: 100%|██████████| 15/15 [00:00<00:00, 16.43it/s, loss=2.19]\n"
          ]
        },
        {
          "output_type": "stream",
          "name": "stdout",
          "text": [
            "\n",
            "Epoch 10/50:\n",
            "Average Loss: 2.2538\n",
            "Time: 0.93s\n"
          ]
        },
        {
          "output_type": "stream",
          "name": "stderr",
          "text": [
            "Epoch 11/50: 100%|██████████| 15/15 [00:00<00:00, 16.77it/s, loss=1.97]\n"
          ]
        },
        {
          "output_type": "stream",
          "name": "stdout",
          "text": [
            "\n",
            "Epoch 11/50:\n",
            "Average Loss: 2.2453\n",
            "Time: 0.90s\n"
          ]
        },
        {
          "output_type": "stream",
          "name": "stderr",
          "text": [
            "Epoch 12/50: 100%|██████████| 15/15 [00:00<00:00, 16.23it/s, loss=2.11]\n"
          ]
        },
        {
          "output_type": "stream",
          "name": "stdout",
          "text": [
            "\n",
            "Epoch 12/50:\n",
            "Average Loss: 2.2453\n",
            "Time: 0.93s\n"
          ]
        },
        {
          "output_type": "stream",
          "name": "stderr",
          "text": [
            "Epoch 13/50: 100%|██████████| 15/15 [00:00<00:00, 15.01it/s, loss=2.14]\n"
          ]
        },
        {
          "output_type": "stream",
          "name": "stdout",
          "text": [
            "\n",
            "Epoch 13/50:\n",
            "Average Loss: 2.2513\n",
            "Time: 1.01s\n"
          ]
        },
        {
          "output_type": "stream",
          "name": "stderr",
          "text": [
            "Epoch 14/50: 100%|██████████| 15/15 [00:00<00:00, 21.82it/s, loss=2.12]\n"
          ]
        },
        {
          "output_type": "stream",
          "name": "stdout",
          "text": [
            "\n",
            "Epoch 14/50:\n",
            "Average Loss: 2.2544\n",
            "Time: 0.70s\n"
          ]
        },
        {
          "output_type": "stream",
          "name": "stderr",
          "text": [
            "Epoch 15/50: 100%|██████████| 15/15 [00:00<00:00, 21.89it/s, loss=1.89]\n"
          ]
        },
        {
          "output_type": "stream",
          "name": "stdout",
          "text": [
            "\n",
            "Epoch 15/50:\n",
            "Average Loss: 2.2394\n",
            "Time: 0.69s\n"
          ]
        },
        {
          "output_type": "stream",
          "name": "stderr",
          "text": [
            "Epoch 16/50: 100%|██████████| 15/15 [00:00<00:00, 22.81it/s, loss=2.45]\n"
          ]
        },
        {
          "output_type": "stream",
          "name": "stdout",
          "text": [
            "\n",
            "Epoch 16/50:\n",
            "Average Loss: 2.2695\n",
            "Time: 0.66s\n"
          ]
        },
        {
          "output_type": "stream",
          "name": "stderr",
          "text": [
            "Epoch 17/50: 100%|██████████| 15/15 [00:00<00:00, 21.86it/s, loss=2.3]\n"
          ]
        },
        {
          "output_type": "stream",
          "name": "stdout",
          "text": [
            "\n",
            "Epoch 17/50:\n",
            "Average Loss: 2.2590\n",
            "Time: 0.69s\n"
          ]
        },
        {
          "output_type": "stream",
          "name": "stderr",
          "text": [
            "Epoch 18/50: 100%|██████████| 15/15 [00:00<00:00, 21.83it/s, loss=2.23]\n"
          ]
        },
        {
          "output_type": "stream",
          "name": "stdout",
          "text": [
            "\n",
            "Epoch 18/50:\n",
            "Average Loss: 2.2578\n",
            "Time: 0.70s\n"
          ]
        },
        {
          "output_type": "stream",
          "name": "stderr",
          "text": [
            "Epoch 19/50: 100%|██████████| 15/15 [00:00<00:00, 15.51it/s, loss=2.07]\n"
          ]
        },
        {
          "output_type": "stream",
          "name": "stdout",
          "text": [
            "\n",
            "Epoch 19/50:\n",
            "Average Loss: 2.2472\n",
            "Time: 0.98s\n"
          ]
        },
        {
          "output_type": "stream",
          "name": "stderr",
          "text": [
            "Epoch 20/50: 100%|██████████| 15/15 [00:00<00:00, 16.81it/s, loss=1.97]\n"
          ]
        },
        {
          "output_type": "stream",
          "name": "stdout",
          "text": [
            "\n",
            "Epoch 20/50:\n",
            "Average Loss: 2.2474\n",
            "Time: 0.91s\n"
          ]
        },
        {
          "output_type": "stream",
          "name": "stderr",
          "text": [
            "Epoch 21/50: 100%|██████████| 15/15 [00:00<00:00, 22.43it/s, loss=2.13]\n"
          ]
        },
        {
          "output_type": "stream",
          "name": "stdout",
          "text": [
            "\n",
            "Epoch 21/50:\n",
            "Average Loss: 2.2527\n",
            "Time: 0.68s\n"
          ]
        },
        {
          "output_type": "stream",
          "name": "stderr",
          "text": [
            "Epoch 22/50: 100%|██████████| 15/15 [00:00<00:00, 22.12it/s, loss=1.86]\n"
          ]
        },
        {
          "output_type": "stream",
          "name": "stdout",
          "text": [
            "\n",
            "Epoch 22/50:\n",
            "Average Loss: 2.2380\n",
            "Time: 0.68s\n"
          ]
        },
        {
          "output_type": "stream",
          "name": "stderr",
          "text": [
            "Epoch 23/50: 100%|██████████| 15/15 [00:00<00:00, 22.64it/s, loss=2.08]\n"
          ]
        },
        {
          "output_type": "stream",
          "name": "stdout",
          "text": [
            "\n",
            "Epoch 23/50:\n",
            "Average Loss: 2.2504\n",
            "Time: 0.67s\n"
          ]
        },
        {
          "output_type": "stream",
          "name": "stderr",
          "text": [
            "Epoch 24/50: 100%|██████████| 15/15 [00:00<00:00, 22.64it/s, loss=2.44]\n"
          ]
        },
        {
          "output_type": "stream",
          "name": "stdout",
          "text": [
            "\n",
            "Epoch 24/50:\n",
            "Average Loss: 2.2643\n",
            "Time: 0.67s\n"
          ]
        },
        {
          "output_type": "stream",
          "name": "stderr",
          "text": [
            "Epoch 25/50: 100%|██████████| 15/15 [00:00<00:00, 21.80it/s, loss=2.69]\n"
          ]
        },
        {
          "output_type": "stream",
          "name": "stdout",
          "text": [
            "\n",
            "Epoch 25/50:\n",
            "Average Loss: 2.2857\n",
            "Time: 0.70s\n"
          ]
        },
        {
          "output_type": "stream",
          "name": "stderr",
          "text": [
            "Epoch 26/50: 100%|██████████| 15/15 [00:00<00:00, 22.10it/s, loss=2.19]\n"
          ]
        },
        {
          "output_type": "stream",
          "name": "stdout",
          "text": [
            "\n",
            "Epoch 26/50:\n",
            "Average Loss: 2.2568\n",
            "Time: 0.70s\n"
          ]
        },
        {
          "output_type": "stream",
          "name": "stderr",
          "text": [
            "Epoch 27/50: 100%|██████████| 15/15 [00:00<00:00, 21.14it/s, loss=2.89]\n"
          ]
        },
        {
          "output_type": "stream",
          "name": "stdout",
          "text": [
            "\n",
            "Epoch 27/50:\n",
            "Average Loss: 2.2947\n",
            "Time: 0.72s\n"
          ]
        },
        {
          "output_type": "stream",
          "name": "stderr",
          "text": [
            "Epoch 28/50: 100%|██████████| 15/15 [00:00<00:00, 16.54it/s, loss=2.86]\n"
          ]
        },
        {
          "output_type": "stream",
          "name": "stdout",
          "text": [
            "\n",
            "Epoch 28/50:\n",
            "Average Loss: 2.2894\n",
            "Time: 0.92s\n"
          ]
        },
        {
          "output_type": "stream",
          "name": "stderr",
          "text": [
            "Epoch 29/50: 100%|██████████| 15/15 [00:00<00:00, 16.11it/s, loss=2.33]\n"
          ]
        },
        {
          "output_type": "stream",
          "name": "stdout",
          "text": [
            "\n",
            "Epoch 29/50:\n",
            "Average Loss: 2.2636\n",
            "Time: 0.94s\n"
          ]
        },
        {
          "output_type": "stream",
          "name": "stderr",
          "text": [
            "Epoch 30/50: 100%|██████████| 15/15 [00:00<00:00, 15.72it/s, loss=2.17]\n"
          ]
        },
        {
          "output_type": "stream",
          "name": "stdout",
          "text": [
            "\n",
            "Epoch 30/50:\n",
            "Average Loss: 2.2555\n",
            "Time: 0.96s\n"
          ]
        },
        {
          "output_type": "stream",
          "name": "stderr",
          "text": [
            "Epoch 31/50: 100%|██████████| 15/15 [00:01<00:00, 11.99it/s, loss=2.46]\n"
          ]
        },
        {
          "output_type": "stream",
          "name": "stdout",
          "text": [
            "\n",
            "Epoch 31/50:\n",
            "Average Loss: 2.2743\n",
            "Time: 1.26s\n"
          ]
        },
        {
          "output_type": "stream",
          "name": "stderr",
          "text": [
            "Epoch 32/50: 100%|██████████| 15/15 [00:00<00:00, 22.41it/s, loss=1.63]\n"
          ]
        },
        {
          "output_type": "stream",
          "name": "stdout",
          "text": [
            "\n",
            "Epoch 32/50:\n",
            "Average Loss: 2.2293\n",
            "Time: 0.69s\n"
          ]
        },
        {
          "output_type": "stream",
          "name": "stderr",
          "text": [
            "Epoch 33/50: 100%|██████████| 15/15 [00:00<00:00, 21.19it/s, loss=2.49]\n"
          ]
        },
        {
          "output_type": "stream",
          "name": "stdout",
          "text": [
            "\n",
            "Epoch 33/50:\n",
            "Average Loss: 2.2689\n",
            "Time: 0.72s\n"
          ]
        },
        {
          "output_type": "stream",
          "name": "stderr",
          "text": [
            "Epoch 34/50: 100%|██████████| 15/15 [00:00<00:00, 21.08it/s, loss=2.71]\n"
          ]
        },
        {
          "output_type": "stream",
          "name": "stdout",
          "text": [
            "\n",
            "Epoch 34/50:\n",
            "Average Loss: 2.2854\n",
            "Time: 0.72s\n"
          ]
        },
        {
          "output_type": "stream",
          "name": "stderr",
          "text": [
            "Epoch 35/50: 100%|██████████| 15/15 [00:00<00:00, 22.33it/s, loss=2.51]\n"
          ]
        },
        {
          "output_type": "stream",
          "name": "stdout",
          "text": [
            "\n",
            "Epoch 35/50:\n",
            "Average Loss: 2.2759\n",
            "Time: 0.68s\n"
          ]
        },
        {
          "output_type": "stream",
          "name": "stderr",
          "text": [
            "Epoch 36/50: 100%|██████████| 15/15 [00:00<00:00, 21.64it/s, loss=2.25]\n"
          ]
        },
        {
          "output_type": "stream",
          "name": "stdout",
          "text": [
            "\n",
            "Epoch 36/50:\n",
            "Average Loss: 2.2593\n",
            "Time: 0.70s\n"
          ]
        },
        {
          "output_type": "stream",
          "name": "stderr",
          "text": [
            "Epoch 37/50: 100%|██████████| 15/15 [00:01<00:00, 13.37it/s, loss=2.64]\n"
          ]
        },
        {
          "output_type": "stream",
          "name": "stdout",
          "text": [
            "\n",
            "Epoch 37/50:\n",
            "Average Loss: 2.2760\n",
            "Time: 1.13s\n"
          ]
        },
        {
          "output_type": "stream",
          "name": "stderr",
          "text": [
            "Epoch 38/50: 100%|██████████| 15/15 [00:00<00:00, 21.20it/s, loss=1.84]\n"
          ]
        },
        {
          "output_type": "stream",
          "name": "stdout",
          "text": [
            "\n",
            "Epoch 38/50:\n",
            "Average Loss: 2.2321\n",
            "Time: 0.72s\n"
          ]
        },
        {
          "output_type": "stream",
          "name": "stderr",
          "text": [
            "Epoch 39/50: 100%|██████████| 15/15 [00:00<00:00, 22.00it/s, loss=2.12]\n"
          ]
        },
        {
          "output_type": "stream",
          "name": "stdout",
          "text": [
            "\n",
            "Epoch 39/50:\n",
            "Average Loss: 2.2503\n",
            "Time: 0.69s\n"
          ]
        },
        {
          "output_type": "stream",
          "name": "stderr",
          "text": [
            "Epoch 40/50: 100%|██████████| 15/15 [00:00<00:00, 22.56it/s, loss=2.37]\n"
          ]
        },
        {
          "output_type": "stream",
          "name": "stdout",
          "text": [
            "\n",
            "Epoch 40/50:\n",
            "Average Loss: 2.2635\n",
            "Time: 0.67s\n"
          ]
        },
        {
          "output_type": "stream",
          "name": "stderr",
          "text": [
            "Epoch 41/50: 100%|██████████| 15/15 [00:00<00:00, 21.97it/s, loss=2.37]\n"
          ]
        },
        {
          "output_type": "stream",
          "name": "stdout",
          "text": [
            "\n",
            "Epoch 41/50:\n",
            "Average Loss: 2.2638\n",
            "Time: 0.69s\n"
          ]
        },
        {
          "output_type": "stream",
          "name": "stderr",
          "text": [
            "Epoch 42/50: 100%|██████████| 15/15 [00:00<00:00, 20.77it/s, loss=2.63]\n"
          ]
        },
        {
          "output_type": "stream",
          "name": "stdout",
          "text": [
            "\n",
            "Epoch 42/50:\n",
            "Average Loss: 2.2759\n",
            "Time: 0.73s\n"
          ]
        },
        {
          "output_type": "stream",
          "name": "stderr",
          "text": [
            "Epoch 43/50: 100%|██████████| 15/15 [00:00<00:00, 22.46it/s, loss=2.66]\n"
          ]
        },
        {
          "output_type": "stream",
          "name": "stdout",
          "text": [
            "\n",
            "Epoch 43/50:\n",
            "Average Loss: 2.2808\n",
            "Time: 0.68s\n"
          ]
        },
        {
          "output_type": "stream",
          "name": "stderr",
          "text": [
            "Epoch 44/50: 100%|██████████| 15/15 [00:00<00:00, 22.08it/s, loss=1.9]\n"
          ]
        },
        {
          "output_type": "stream",
          "name": "stdout",
          "text": [
            "\n",
            "Epoch 44/50:\n",
            "Average Loss: 2.2392\n",
            "Time: 0.69s\n"
          ]
        },
        {
          "output_type": "stream",
          "name": "stderr",
          "text": [
            "Epoch 45/50: 100%|██████████| 15/15 [00:00<00:00, 16.20it/s, loss=1.81]\n"
          ]
        },
        {
          "output_type": "stream",
          "name": "stdout",
          "text": [
            "\n",
            "Epoch 45/50:\n",
            "Average Loss: 2.2328\n",
            "Time: 0.94s\n"
          ]
        },
        {
          "output_type": "stream",
          "name": "stderr",
          "text": [
            "Epoch 46/50: 100%|██████████| 15/15 [00:00<00:00, 16.51it/s, loss=2.25]\n"
          ]
        },
        {
          "output_type": "stream",
          "name": "stdout",
          "text": [
            "\n",
            "Epoch 46/50:\n",
            "Average Loss: 2.2575\n",
            "Time: 0.92s\n"
          ]
        },
        {
          "output_type": "stream",
          "name": "stderr",
          "text": [
            "Epoch 47/50: 100%|██████████| 15/15 [00:00<00:00, 15.82it/s, loss=2.15]\n"
          ]
        },
        {
          "output_type": "stream",
          "name": "stdout",
          "text": [
            "\n",
            "Epoch 47/50:\n",
            "Average Loss: 2.2529\n",
            "Time: 0.96s\n"
          ]
        },
        {
          "output_type": "stream",
          "name": "stderr",
          "text": [
            "Epoch 48/50: 100%|██████████| 15/15 [00:00<00:00, 15.74it/s, loss=2.27]\n"
          ]
        },
        {
          "output_type": "stream",
          "name": "stdout",
          "text": [
            "\n",
            "Epoch 48/50:\n",
            "Average Loss: 2.2581\n",
            "Time: 0.96s\n"
          ]
        },
        {
          "output_type": "stream",
          "name": "stderr",
          "text": [
            "Epoch 49/50: 100%|██████████| 15/15 [00:00<00:00, 17.83it/s, loss=2.16]\n"
          ]
        },
        {
          "output_type": "stream",
          "name": "stdout",
          "text": [
            "\n",
            "Epoch 49/50:\n",
            "Average Loss: 2.2513\n",
            "Time: 0.86s\n"
          ]
        },
        {
          "output_type": "stream",
          "name": "stderr",
          "text": [
            "Epoch 50/50: 100%|██████████| 15/15 [00:00<00:00, 22.05it/s, loss=2.42]\n"
          ]
        },
        {
          "output_type": "stream",
          "name": "stdout",
          "text": [
            "\n",
            "Epoch 50/50:\n",
            "Average Loss: 2.2664\n",
            "Time: 0.69s\n"
          ]
        },
        {
          "output_type": "display_data",
          "data": {
            "text/plain": [
              "<Figure size 1000x600 with 1 Axes>"
            ],
            "image/png": "[encoded data removed]"
          },
          "metadata": {}
        }
      ]
    },
    {
      "cell_type": "code",
      "source": [
        "def generate_text(model, vocab, seed_text, max_length=50, temperature=0.7):\n",
        "    model.eval()\n",
        "    words = seed_text.split()\n",
        "    current_sequence = torch.tensor([vocab.text_to_sequence(seed_text)])\n",
        "\n",
        "    generated_words = []\n",
        "\n",
        "    with torch.no_grad():\n",
        "        for _ in range(max_length):\n",
        "            # Get model output\n",
        "            output, _ = model(current_sequence)\n",
        "\n",
        "            # Get the last prediction\n",
        "            last_word_logits = output[0, -1, :]\n",
        "\n",
        "            # Apply temperature\n",
        "            scaled_logits = last_word_logits / temperature\n",
        "\n",
        "            # Convert to probabilities\n",
        "            probs = F.softmax(scaled_logits, dim=0)\n",
        "\n",
        "            # Sample from the distribution\n",
        "            next_word_idx = torch.multinomial(probs, 1).item()\n",
        "\n",
        "            # Break if we generate an end token\n",
        "            if next_word_idx == vocab.word2idx['<END>']:\n",
        "                break\n",
        "\n",
        "            # Add the generated word\n",
        "            generated_words.append(vocab.idx2word[next_word_idx])\n",
        "\n",
        "            # Update the sequence\n",
        "            current_sequence = torch.cat([current_sequence[:, 1:],\n",
        "                                       torch.tensor([[next_word_idx]])], dim=1)\n",
        "\n",
        "    return ' '.join(generated_words)"
      ],
      "metadata": {
        "id": "zlwd0ufd2rkk"
      },
      "execution_count": 57,
      "outputs": []
    },
    {
      "cell_type": "code",
      "source": [
        "# Generate sample texts\n",
        "print(\"\\nGenerating sample texts from trained model:\")\n",
        "print(\"-\" * 50)\n",
        "seed_texts = [\n",
        "    \"unable to access my\",\n",
        "    \"the connection is not\",\n",
        "    \"can you please\"\n",
        "]\n",
        "\n",
        "for seed in seed_texts:\n",
        "    generated = generate_text(agent_model, agent_vocab, seed)\n",
        "    print(f\"\\nSeed: {seed}\")\n",
        "    print(f\"Generated: {generated}\")"
      ],
      "metadata": {
        "colab": {
          "base_uri": "https://localhost:8080/"
        },
        "id": "QtkGdQfD3T1b",
        "outputId": "712db9ce-4673-44d4-bc3b-481817cdb10b"
      },
      "execution_count": 62,
      "outputs": [
        {
          "output_type": "stream",
          "name": "stdout",
          "text": [
            "\n",
            "Generating sample texts from trained model:\n",
            "--------------------------------------------------\n",
            "\n",
            "Seed: unable to access my\n",
            "Generated: with your is should together now your now work settings now now be better contacting up if technical restored help up to to assist mode to thanks you contacting contacting contacting can i to you check your updated account status now now to our support our may support help day\n",
            "\n",
            "Seed: the connection is not\n",
            "Generated: all settings it safe date\n",
            "\n",
            "Seed: can you please\n",
            "Generated: firmware up network can device anything\n"
          ]
        }
      ]
    },
    {
      "cell_type": "markdown",
      "source": [
        "# 4: Text Generation and Evaluation"
      ],
      "metadata": {
        "id": "LGjnpflm5Df1"
      }
    },
    {
      "cell_type": "code",
      "source": [
        "# Evaluation and Text Generation\n",
        "def generate_responses(model, vocab, seed_texts, max_length=30, temperature=0.8):\n",
        "    \"\"\"\n",
        "    Generate responses for multiple seed texts\n",
        "    \"\"\"\n",
        "    model.eval()\n",
        "    responses = []\n",
        "\n",
        "    for seed_text in seed_texts:\n",
        "        # Tokenize and prepare input\n",
        "        current_sequence = torch.tensor([vocab.text_to_sequence(seed_text)])\n",
        "\n",
        "        generated_words = []\n",
        "        with torch.no_grad():\n",
        "            for _ in range(max_length):\n",
        "                # Get model output\n",
        "                output, _ = model(current_sequence)\n",
        "\n",
        "                # Get the last prediction\n",
        "                last_word_logits = output[0, -1, :]\n",
        "\n",
        "                # Apply temperature sampling\n",
        "                scaled_logits = last_word_logits / temperature\n",
        "                probs = F.softmax(scaled_logits, dim=0)\n",
        "                next_word_idx = torch.multinomial(probs, 1).item()\n",
        "\n",
        "                # Stop if we generate an end token\n",
        "                if next_word_idx == vocab.word2idx['<END>']:\n",
        "                    break\n",
        "\n",
        "                # Add the generated word\n",
        "                generated_words.append(vocab.idx2word[next_word_idx])\n",
        "\n",
        "                # Update the sequence\n",
        "                current_sequence = torch.cat([current_sequence[:, 1:],\n",
        "                                           torch.tensor([[next_word_idx]])], dim=1)\n",
        "\n",
        "        responses.append(' '.join(generated_words))\n",
        "    return responses"
      ],
      "metadata": {
        "id": "e72sQZgA4TN8"
      },
      "execution_count": 63,
      "outputs": []
    },
    {
      "cell_type": "code",
      "source": [
        "# Test cases for different scenarios\n",
        "test_cases = [\n",
        "    # Common support queries\n",
        "    \"hi i need help with\",\n",
        "    \"my internet is not working\",\n",
        "    \"how do i configure\",\n",
        "    \"can you check my connection\",\n",
        "\n",
        "    # Technical issues\n",
        "    \"getting error message\",\n",
        "    \"service activation failed\",\n",
        "    \"unable to connect to\",\n",
        "\n",
        "    # Short prompts\n",
        "    \"hello\",\n",
        "    \"help\",\n",
        "    \"thank you\"\n",
        "]\n",
        "\n",
        "print(\"Generating responses with different temperatures:\")\n",
        "print(\"-\" * 50)\n",
        "# Test with different temperatures\n",
        "temperatures = [0.5, 0.8, 1.0]\n",
        "for temp in temperatures:\n",
        "    print(f\"\\nTemperature: {temp}\")\n",
        "    print(\"-\" * 30)\n",
        "    responses = generate_responses(agent_model, agent_vocab, test_cases[:3], temperature=temp)\n",
        "    for seed, response in zip(test_cases[:3], responses):\n",
        "        print(f\"\\nSeed: {seed}\")\n",
        "        print(f\"Generated: {response}\")"
      ],
      "metadata": {
        "colab": {
          "base_uri": "https://localhost:8080/"
        },
        "id": "MByTwa_u5I28",
        "outputId": "ec7250ae-4278-407c-dc2a-4725afb0e3e8"
      },
      "execution_count": 65,
      "outputs": [
        {
          "output_type": "stream",
          "name": "stdout",
          "text": [
            "Generating responses with different temperatures:\n",
            "--------------------------------------------------\n",
            "\n",
            "Temperature: 0.5\n",
            "------------------------------\n",
            "\n",
            "Seed: hi i need help with\n",
            "Generated: with today\n",
            "\n",
            "Seed: my internet is not working\n",
            "Generated: \n",
            "\n",
            "Seed: how do i configure\n",
            "Generated: your is settings settings should settings this\n",
            "\n",
            "Temperature: 0.8\n",
            "------------------------------\n",
            "\n",
            "Seed: hi i need help with\n",
            "Generated: with your service device and now test and\n",
            "\n",
            "Seed: my internet is not working\n",
            "Generated: to your on\n",
            "\n",
            "Seed: how do i configure\n",
            "Generated: you your your things together work better help to should\n",
            "\n",
            "Temperature: 1.0\n",
            "------------------------------\n",
            "\n",
            "Seed: hi i need help with\n",
            "Generated: network cache try on and connecting\n",
            "\n",
            "Seed: my internet is not working\n",
            "Generated: with you your to for issue better should\n",
            "\n",
            "Seed: how do i configure\n",
            "Generated: your please\n"
          ]
        }
      ]
    },
    {
      "cell_type": "code",
      "source": [
        "# Function to evaluate response diversity\n",
        "def evaluate_diversity(responses):\n",
        "    \"\"\"Calculate diversity metrics for generated responses\"\"\"\n",
        "    words = [response.split() for response in responses]\n",
        "    unique_words = set(word for response in words for word in response)\n",
        "    total_words = sum(len(response) for response in words)\n",
        "\n",
        "    return {\n",
        "        'unique_words': len(unique_words),\n",
        "        'total_words': total_words,\n",
        "        'vocab_usage': len(unique_words) / len(agent_vocab.word2idx),\n",
        "        'avg_length': total_words / len(responses)\n",
        "    }\n",
        "\n",
        "# Generate larger set of responses for diversity evaluation\n",
        "eval_responses = generate_responses(agent_model, agent_vocab, test_cases, temperature=0.8)\n",
        "diversity_metrics = evaluate_diversity(eval_responses)\n",
        "\n",
        "print(\"\\nDiversity Metrics:\")\n",
        "print(\"-\" * 50)\n",
        "print(f\"Unique words used: {diversity_metrics['unique_words']}\")\n",
        "print(f\"Average response length: {diversity_metrics['avg_length']:.2f} words\")\n",
        "print(f\"Vocabulary usage: {diversity_metrics['vocab_usage']*100:.2f}%\")\n"
      ],
      "metadata": {
        "colab": {
          "base_uri": "https://localhost:8080/"
        },
        "id": "bAUmljVC5LRP",
        "outputId": "3e884686-80e4-493a-a251-d29e4464f583"
      },
      "execution_count": 66,
      "outputs": [
        {
          "output_type": "stream",
          "name": "stdout",
          "text": [
            "\n",
            "Diversity Metrics:\n",
            "--------------------------------------------------\n",
            "Unique words used: 86\n",
            "Average response length: 15.30 words\n",
            "Vocabulary usage: 64.18%\n"
          ]
        }
      ]
    },
    {
      "cell_type": "code",
      "source": [
        "# Save example conversations to demonstrate model capabilities\n",
        "print(\"\\nSample Conversations:\")\n",
        "print(\"-\" * 50)\n",
        "conversations = [\n",
        "    \"hi i need help with my internet\",\n",
        "    \"my service is not working properly\",\n",
        "    \"can you help me configure my router\"\n",
        "]\n",
        "\n",
        "print(\"\\nGenerated Conversations:\")\n",
        "for conv_start in conversations:\n",
        "    print(f\"\\nCustomer: {conv_start}\")\n",
        "    response = generate_responses(agent_model, agent_vocab, [conv_start], temperature=0.7)[0]\n",
        "    print(f\"Agent: {response}\")"
      ],
      "metadata": {
        "colab": {
          "base_uri": "https://localhost:8080/"
        },
        "id": "AbOJ9RAG5cM8",
        "outputId": "96869438-99f1-48e3-ec85-b94585e5b20a"
      },
      "execution_count": 72,
      "outputs": [
        {
          "output_type": "stream",
          "name": "stdout",
          "text": [
            "\n",
            "Sample Conversations:\n",
            "--------------------------------------------------\n",
            "\n",
            "Generated Conversations:\n",
            "\n",
            "Customer: hi i need help with my internet\n",
            "Agent: \n",
            "\n",
            "Customer: my service is not working properly\n",
            "Agent: \n",
            "\n",
            "Customer: can you help me configure my router\n",
            "Agent: your team cache\n"
          ]
        }
      ]
    },
    {
      "cell_type": "markdown",
      "source": [
        "Issues in Current Output:\n",
        "\n",
        "\n",
        "- Fragmented sentences\n",
        "- Repetition of words (e.g., \"your your your\")\n",
        "- Incomplete responses\n",
        "- Poor grammatical structure"
      ],
      "metadata": {
        "id": "PBq9erlf6Z-X"
      }
    },
    {
      "cell_type": "code",
      "source": [
        "import torch\n",
        "import torch.nn as nn\n",
        "import torch.nn.functional as F\n",
        "from torch.nn.utils import clip_grad_norm_"
      ],
      "metadata": {
        "id": "4UDsPR277miv"
      },
      "execution_count": 84,
      "outputs": []
    },
    {
      "cell_type": "code",
      "source": [
        "class StableLSTMGenerator(nn.Module):\n",
        "    def __init__(self, vocab_size, embedding_dim, hidden_dim, num_layers, dropout_rate=0.2):\n",
        "        super(StableLSTMGenerator, self).__init__()\n",
        "\n",
        "        self.vocab_size = vocab_size\n",
        "        self.embedding_dim = embedding_dim\n",
        "        self.hidden_dim = hidden_dim\n",
        "        self.num_layers = num_layers\n",
        "\n",
        "        # Embedding layer\n",
        "        self.embedding = nn.Embedding(vocab_size, embedding_dim, padding_idx=0)\n",
        "\n",
        "        # LSTM layer\n",
        "        self.lstm = nn.LSTM(\n",
        "            input_size=embedding_dim,\n",
        "            hidden_size=hidden_dim,\n",
        "            num_layers=num_layers,\n",
        "            dropout=dropout_rate if num_layers > 1 else 0,\n",
        "            batch_first=True\n",
        "        )\n",
        "\n",
        "        # Output layer - make sure dimensions match\n",
        "        self.fc = nn.Linear(hidden_dim, vocab_size)\n",
        "        self.dropout = nn.Dropout(dropout_rate)\n",
        "\n",
        "    def forward(self, x, hidden=None):\n",
        "        # x shape: (batch_size, sequence_length)\n",
        "        batch_size = x.size(0)\n",
        "\n",
        "        # Embed the input - shape: (batch_size, sequence_length, embedding_dim)\n",
        "        embedded = self.dropout(self.embedding(x))\n",
        "\n",
        "        # Initialize hidden state if not provided\n",
        "        if hidden is None:\n",
        "            hidden = self.init_hidden(batch_size)\n",
        "\n",
        "        # LSTM forward pass\n",
        "        # lstm_out shape: (batch_size, sequence_length, hidden_dim)\n",
        "        lstm_out, hidden = self.lstm(embedded, hidden)\n",
        "\n",
        "        # Apply dropout\n",
        "        lstm_out = self.dropout(lstm_out)\n",
        "\n",
        "        # Linear layer\n",
        "        # output shape: (batch_size, sequence_length, vocab_size)\n",
        "        output = self.fc(lstm_out)\n",
        "\n",
        "        return output, hidden\n",
        "\n",
        "    def init_hidden(self, batch_size):\n",
        "        weight = next(self.parameters()).data\n",
        "        return (weight.new(self.num_layers, batch_size, self.hidden_dim).zero_(),\n",
        "                weight.new(self.num_layers, batch_size, self.hidden_dim).zero_())\n",
        "\n",
        "def train_epoch(model, train_loader, criterion, optimizer, clip=0.25):\n",
        "    model.train()\n",
        "    total_loss = 0\n",
        "    num_batches = len(train_loader)\n",
        "\n",
        "    for batch_idx, (inputs, targets) in enumerate(train_loader):\n",
        "        # Zero gradients\n",
        "        optimizer.zero_grad()\n",
        "\n",
        "        # Forward pass\n",
        "        output, _ = model(inputs)\n",
        "\n",
        "        # Reshape output and targets for loss calculation\n",
        "        output = output.view(-1, output.size(-1))\n",
        "        targets = targets.view(-1)\n",
        "\n",
        "        # Calculate loss\n",
        "        loss = criterion(output, targets)\n",
        "\n",
        "        # Backward pass\n",
        "        loss.backward()\n",
        "\n",
        "        # Clip gradients\n",
        "        clip_grad_norm_(model.parameters(), clip)\n",
        "\n",
        "        # Update weights\n",
        "        optimizer.step()\n",
        "\n",
        "        # Update total loss\n",
        "        total_loss += loss.item()\n",
        "\n",
        "        # Print progress\n",
        "        if (batch_idx + 1) % 5 == 0:\n",
        "            print(f'Batch {batch_idx + 1}/{num_batches}, Loss: {loss.item():.4f}')\n",
        "\n",
        "    return total_loss / num_batches\n"
      ],
      "metadata": {
        "id": "zMxsYYUg6In4"
      },
      "execution_count": 89,
      "outputs": []
    },
    {
      "cell_type": "code",
      "source": [
        "# Model hyperparameters\n",
        "vocab_size = len(agent_vocab.word2idx)\n",
        "embedding_dim = 64\n",
        "hidden_dim = 64  # Make sure this matches embedding_dim\n",
        "num_layers = 2\n",
        "dropout_rate = 0.2\n",
        "\n",
        "# Create model\n",
        "model = StableLSTMGenerator(vocab_size, embedding_dim, hidden_dim, num_layers, dropout_rate)\n",
        "\n",
        "# Loss and optimizer\n",
        "criterion = nn.CrossEntropyLoss(ignore_index=0)\n",
        "optimizer = torch.optim.Adam(model.parameters(), lr=0.001)\n",
        "\n",
        "# Training loop\n",
        "print(\"Starting training...\")\n",
        "num_epochs = 50\n",
        "all_losses = []\n",
        "\n",
        "for epoch in range(num_epochs):\n",
        "    print(f\"\\nEpoch {epoch+1}/{num_epochs}\")\n",
        "    avg_loss = train_epoch(model, agent_loader, criterion, optimizer)\n",
        "    all_losses.append(avg_loss)\n",
        "    print(f\"Epoch {epoch+1} average loss: {avg_loss:.4f}\")\n",
        "\n",
        "# Plot loss\n",
        "plt.figure(figsize=(10, 6))\n",
        "plt.plot(all_losses)\n",
        "plt.title('Training Loss Over Time')\n",
        "plt.xlabel('Epoch')\n",
        "plt.ylabel('Loss')\n",
        "plt.show()"
      ],
      "metadata": {
        "colab": {
          "base_uri": "https://localhost:8080/",
          "height": 1000
        },
        "id": "6m_FD79P6mEC",
        "outputId": "43579629-bc1d-4f8b-bb7f-4b6a85bd44ca"
      },
      "execution_count": 91,
      "outputs": [
        {
          "output_type": "stream",
          "name": "stdout",
          "text": [
            "Starting training...\n",
            "\n",
            "Epoch 1/50\n",
            "Batch 5/15, Loss: 4.8839\n",
            "Batch 10/15, Loss: 4.8634\n",
            "Batch 15/15, Loss: 4.8007\n",
            "Epoch 1 average loss: 4.8701\n",
            "\n",
            "Epoch 2/50\n",
            "Batch 5/15, Loss: 4.7757\n",
            "Batch 10/15, Loss: 4.6444\n",
            "Batch 15/15, Loss: 4.4040\n",
            "Epoch 2 average loss: 4.6663\n",
            "\n",
            "Epoch 3/50\n",
            "Batch 5/15, Loss: 4.2965\n",
            "Batch 10/15, Loss: 4.2584\n",
            "Batch 15/15, Loss: 4.1829\n",
            "Epoch 3 average loss: 4.2773\n",
            "\n",
            "Epoch 4/50\n",
            "Batch 5/15, Loss: 4.1758\n",
            "Batch 10/15, Loss: 4.0452\n",
            "Batch 15/15, Loss: 4.0341\n",
            "Epoch 4 average loss: 4.1048\n",
            "\n",
            "Epoch 5/50\n",
            "Batch 5/15, Loss: 4.0118\n",
            "Batch 10/15, Loss: 3.8960\n",
            "Batch 15/15, Loss: 3.8673\n",
            "Epoch 5 average loss: 3.9432\n",
            "\n",
            "Epoch 6/50\n",
            "Batch 5/15, Loss: 3.7089\n",
            "Batch 10/15, Loss: 3.6437\n",
            "Batch 15/15, Loss: 3.7476\n",
            "Epoch 6 average loss: 3.7509\n",
            "\n",
            "Epoch 7/50\n",
            "Batch 5/15, Loss: 3.7113\n",
            "Batch 10/15, Loss: 3.5170\n",
            "Batch 15/15, Loss: 3.6540\n",
            "Epoch 7 average loss: 3.5463\n",
            "\n",
            "Epoch 8/50\n",
            "Batch 5/15, Loss: 3.1644\n",
            "Batch 10/15, Loss: 3.1539\n",
            "Batch 15/15, Loss: 3.4528\n",
            "Epoch 8 average loss: 3.3276\n",
            "\n",
            "Epoch 9/50\n",
            "Batch 5/15, Loss: 3.0012\n",
            "Batch 10/15, Loss: 3.1849\n",
            "Batch 15/15, Loss: 3.1159\n",
            "Epoch 9 average loss: 3.1324\n",
            "\n",
            "Epoch 10/50\n",
            "Batch 5/15, Loss: 2.9048\n",
            "Batch 10/15, Loss: 2.9243\n",
            "Batch 15/15, Loss: 2.9152\n",
            "Epoch 10 average loss: 2.9278\n",
            "\n",
            "Epoch 11/50\n",
            "Batch 5/15, Loss: 2.7749\n",
            "Batch 10/15, Loss: 2.4973\n",
            "Batch 15/15, Loss: 2.7005\n",
            "Epoch 11 average loss: 2.7420\n",
            "\n",
            "Epoch 12/50\n",
            "Batch 5/15, Loss: 2.4540\n",
            "Batch 10/15, Loss: 2.6618\n",
            "Batch 15/15, Loss: 2.5155\n",
            "Epoch 12 average loss: 2.5950\n",
            "\n",
            "Epoch 13/50\n",
            "Batch 5/15, Loss: 2.3641\n",
            "Batch 10/15, Loss: 2.0290\n",
            "Batch 15/15, Loss: 2.4299\n",
            "Epoch 13 average loss: 2.4472\n",
            "\n",
            "Epoch 14/50\n",
            "Batch 5/15, Loss: 2.3664\n",
            "Batch 10/15, Loss: 2.3666\n",
            "Batch 15/15, Loss: 1.9841\n",
            "Epoch 14 average loss: 2.2740\n",
            "\n",
            "Epoch 15/50\n",
            "Batch 5/15, Loss: 2.0261\n",
            "Batch 10/15, Loss: 2.1184\n",
            "Batch 15/15, Loss: 1.8402\n",
            "Epoch 15 average loss: 2.1393\n",
            "\n",
            "Epoch 16/50\n",
            "Batch 5/15, Loss: 2.1136\n",
            "Batch 10/15, Loss: 2.2549\n",
            "Batch 15/15, Loss: 2.1907\n",
            "Epoch 16 average loss: 2.0404\n",
            "\n",
            "Epoch 17/50\n",
            "Batch 5/15, Loss: 1.8590\n",
            "Batch 10/15, Loss: 1.9533\n",
            "Batch 15/15, Loss: 1.5494\n",
            "Epoch 17 average loss: 1.8773\n",
            "\n",
            "Epoch 18/50\n",
            "Batch 5/15, Loss: 1.7559\n",
            "Batch 10/15, Loss: 1.7260\n",
            "Batch 15/15, Loss: 1.5279\n",
            "Epoch 18 average loss: 1.7729\n",
            "\n",
            "Epoch 19/50\n",
            "Batch 5/15, Loss: 1.5410\n",
            "Batch 10/15, Loss: 1.6406\n",
            "Batch 15/15, Loss: 1.4600\n",
            "Epoch 19 average loss: 1.6586\n",
            "\n",
            "Epoch 20/50\n",
            "Batch 5/15, Loss: 1.4349\n",
            "Batch 10/15, Loss: 1.6129\n",
            "Batch 15/15, Loss: 2.2052\n",
            "Epoch 20 average loss: 1.6073\n",
            "\n",
            "Epoch 21/50\n",
            "Batch 5/15, Loss: 1.6189\n",
            "Batch 10/15, Loss: 1.3704\n",
            "Batch 15/15, Loss: 1.4112\n",
            "Epoch 21 average loss: 1.4691\n",
            "\n",
            "Epoch 22/50\n",
            "Batch 5/15, Loss: 1.4368\n",
            "Batch 10/15, Loss: 1.2841\n",
            "Batch 15/15, Loss: 1.1096\n",
            "Epoch 22 average loss: 1.3619\n",
            "\n",
            "Epoch 23/50\n",
            "Batch 5/15, Loss: 1.3127\n",
            "Batch 10/15, Loss: 1.2518\n",
            "Batch 15/15, Loss: 1.6738\n",
            "Epoch 23 average loss: 1.3199\n",
            "\n",
            "Epoch 24/50\n",
            "Batch 5/15, Loss: 1.2100\n",
            "Batch 10/15, Loss: 1.0780\n",
            "Batch 15/15, Loss: 1.1379\n",
            "Epoch 24 average loss: 1.2172\n",
            "\n",
            "Epoch 25/50\n",
            "Batch 5/15, Loss: 1.2221\n",
            "Batch 10/15, Loss: 0.9617\n",
            "Batch 15/15, Loss: 1.2568\n",
            "Epoch 25 average loss: 1.1453\n",
            "\n",
            "Epoch 26/50\n",
            "Batch 5/15, Loss: 1.2099\n",
            "Batch 10/15, Loss: 1.1073\n",
            "Batch 15/15, Loss: 1.1020\n",
            "Epoch 26 average loss: 1.0764\n",
            "\n",
            "Epoch 27/50\n",
            "Batch 5/15, Loss: 0.9836\n",
            "Batch 10/15, Loss: 1.1783\n",
            "Batch 15/15, Loss: 0.9910\n",
            "Epoch 27 average loss: 0.9944\n",
            "\n",
            "Epoch 28/50\n",
            "Batch 5/15, Loss: 0.9592\n",
            "Batch 10/15, Loss: 0.8204\n",
            "Batch 15/15, Loss: 0.9531\n",
            "Epoch 28 average loss: 0.9352\n",
            "\n",
            "Epoch 29/50\n",
            "Batch 5/15, Loss: 0.8553\n",
            "Batch 10/15, Loss: 0.7500\n",
            "Batch 15/15, Loss: 1.0729\n",
            "Epoch 29 average loss: 0.8784\n",
            "\n",
            "Epoch 30/50\n",
            "Batch 5/15, Loss: 0.8026\n",
            "Batch 10/15, Loss: 0.9656\n",
            "Batch 15/15, Loss: 0.6019\n",
            "Epoch 30 average loss: 0.8131\n",
            "\n",
            "Epoch 31/50\n",
            "Batch 5/15, Loss: 0.8692\n",
            "Batch 10/15, Loss: 0.7817\n",
            "Batch 15/15, Loss: 1.2356\n",
            "Epoch 31 average loss: 0.7977\n",
            "\n",
            "Epoch 32/50\n",
            "Batch 5/15, Loss: 0.7247\n",
            "Batch 10/15, Loss: 0.7311\n",
            "Batch 15/15, Loss: 0.9189\n",
            "Epoch 32 average loss: 0.7191\n",
            "\n",
            "Epoch 33/50\n",
            "Batch 5/15, Loss: 0.6362\n",
            "Batch 10/15, Loss: 0.9489\n",
            "Batch 15/15, Loss: 0.5990\n",
            "Epoch 33 average loss: 0.6622\n",
            "\n",
            "Epoch 34/50\n",
            "Batch 5/15, Loss: 0.5816\n",
            "Batch 10/15, Loss: 0.5591\n",
            "Batch 15/15, Loss: 0.5109\n",
            "Epoch 34 average loss: 0.6187\n",
            "\n",
            "Epoch 35/50\n",
            "Batch 5/15, Loss: 0.6336\n",
            "Batch 10/15, Loss: 0.5065\n",
            "Batch 15/15, Loss: 0.5108\n",
            "Epoch 35 average loss: 0.5772\n",
            "\n",
            "Epoch 36/50\n",
            "Batch 5/15, Loss: 0.4891\n",
            "Batch 10/15, Loss: 0.4457\n",
            "Batch 15/15, Loss: 0.6179\n",
            "Epoch 36 average loss: 0.5374\n",
            "\n",
            "Epoch 37/50\n",
            "Batch 5/15, Loss: 0.5667\n",
            "Batch 10/15, Loss: 0.4380\n",
            "Batch 15/15, Loss: 0.4803\n",
            "Epoch 37 average loss: 0.5083\n",
            "\n",
            "Epoch 38/50\n",
            "Batch 5/15, Loss: 0.4895\n",
            "Batch 10/15, Loss: 0.5941\n",
            "Batch 15/15, Loss: 0.4428\n",
            "Epoch 38 average loss: 0.4700\n",
            "\n",
            "Epoch 39/50\n",
            "Batch 5/15, Loss: 0.5499\n",
            "Batch 10/15, Loss: 0.4178\n",
            "Batch 15/15, Loss: 0.4006\n",
            "Epoch 39 average loss: 0.4502\n",
            "\n",
            "Epoch 40/50\n",
            "Batch 5/15, Loss: 0.4755\n",
            "Batch 10/15, Loss: 0.5270\n",
            "Batch 15/15, Loss: 0.4401\n",
            "Epoch 40 average loss: 0.4055\n",
            "\n",
            "Epoch 41/50\n",
            "Batch 5/15, Loss: 0.3669\n",
            "Batch 10/15, Loss: 0.3743\n",
            "Batch 15/15, Loss: 0.2884\n",
            "Epoch 41 average loss: 0.3821\n",
            "\n",
            "Epoch 42/50\n",
            "Batch 5/15, Loss: 0.4093\n",
            "Batch 10/15, Loss: 0.3469\n",
            "Batch 15/15, Loss: 0.1795\n",
            "Epoch 42 average loss: 0.3540\n",
            "\n",
            "Epoch 43/50\n",
            "Batch 5/15, Loss: 0.4222\n",
            "Batch 10/15, Loss: 0.3159\n",
            "Batch 15/15, Loss: 0.3429\n",
            "Epoch 43 average loss: 0.3374\n",
            "\n",
            "Epoch 44/50\n",
            "Batch 5/15, Loss: 0.2926\n",
            "Batch 10/15, Loss: 0.3355\n",
            "Batch 15/15, Loss: 0.2744\n",
            "Epoch 44 average loss: 0.3151\n",
            "\n",
            "Epoch 45/50\n",
            "Batch 5/15, Loss: 0.2689\n",
            "Batch 10/15, Loss: 0.2685\n",
            "Batch 15/15, Loss: 0.1627\n",
            "Epoch 45 average loss: 0.2891\n",
            "\n",
            "Epoch 46/50\n",
            "Batch 5/15, Loss: 0.2675\n",
            "Batch 10/15, Loss: 0.3343\n",
            "Batch 15/15, Loss: 0.2238\n",
            "Epoch 46 average loss: 0.2807\n",
            "\n",
            "Epoch 47/50\n",
            "Batch 5/15, Loss: 0.2190\n",
            "Batch 10/15, Loss: 0.3150\n",
            "Batch 15/15, Loss: 0.2037\n",
            "Epoch 47 average loss: 0.2627\n",
            "\n",
            "Epoch 48/50\n",
            "Batch 5/15, Loss: 0.2104\n",
            "Batch 10/15, Loss: 0.2766\n",
            "Batch 15/15, Loss: 0.3222\n",
            "Epoch 48 average loss: 0.2603\n",
            "\n",
            "Epoch 49/50\n",
            "Batch 5/15, Loss: 0.2340\n",
            "Batch 10/15, Loss: 0.2358\n",
            "Batch 15/15, Loss: 0.2783\n",
            "Epoch 49 average loss: 0.2465\n",
            "\n",
            "Epoch 50/50\n",
            "Batch 5/15, Loss: 0.2040\n",
            "Batch 10/15, Loss: 0.2187\n",
            "Batch 15/15, Loss: 0.3112\n",
            "Epoch 50 average loss: 0.2338\n"
          ]
        },
        {
          "output_type": "display_data",
          "data": {
            "text/plain": [
              "<Figure size 1000x600 with 1 Axes>"
            ],
            "image/png": "[encoded data removed]"
          },
          "metadata": {}
        }
      ]
    },
    {
      "cell_type": "code",
      "source": [
        "# Test the model\n",
        "def generate_text(model, vocab, seed_text, max_length=10):\n",
        "    model.eval()\n",
        "    with torch.no_grad():\n",
        "        # Convert seed text to tensor\n",
        "        tokens = vocab.text_to_sequence(seed_text)\n",
        "        current_seq = torch.LongTensor([tokens])\n",
        "\n",
        "        generated = []\n",
        "        for _ in range(max_length):\n",
        "            # Get prediction\n",
        "            output, _ = model(current_seq)\n",
        "\n",
        "            # Get next word prediction\n",
        "            next_word_idx = output[0, -1].argmax().item()\n",
        "\n",
        "            # Stop if we hit the end token\n",
        "            if next_word_idx == vocab.word2idx['<END>']:\n",
        "                break\n",
        "\n",
        "            generated.append(vocab.idx2word[next_word_idx])\n",
        "\n",
        "            # Update sequence\n",
        "            current_seq = torch.cat([current_seq[:, 1:],\n",
        "                                   torch.LongTensor([[next_word_idx]])], dim=1)\n",
        "\n",
        "    return ' '.join(generated)"
      ],
      "metadata": {
        "id": "EqC1QihJ7Lgz"
      },
      "execution_count": 98,
      "outputs": []
    },
    {
      "cell_type": "code",
      "source": [
        "def improved_generate_text(model, vocab, seed_text, max_length=30, temperature=0.7, top_k=5):\n",
        "    \"\"\"\n",
        "    Generate text with improved decoding strategy and coherence control\n",
        "\n",
        "    Args:\n",
        "        model: Trained LSTM model\n",
        "        vocab: Vocabulary object\n",
        "        seed_text: Initial text prompt\n",
        "        max_length: Maximum length of generated text\n",
        "        temperature: Controls randomness (lower = more conservative)\n",
        "        top_k: Number of top tokens to consider for sampling\n",
        "    \"\"\"\n",
        "    model.eval()\n",
        "    with torch.no_grad():\n",
        "        # Convert seed text to tensor\n",
        "        tokens = vocab.text_to_sequence(seed_text)\n",
        "        current_seq = torch.LongTensor([tokens])\n",
        "\n",
        "        generated = []\n",
        "        banned_words = {'your', 'you', 'to', 'should', 'now'}  # Common words to avoid repetition\n",
        "        recent_words = []  # Track recent words\n",
        "        consecutive_repeats = 0\n",
        "\n",
        "        for _ in range(max_length):\n",
        "            # Get prediction\n",
        "            output, _ = model(current_seq)\n",
        "\n",
        "            # Get logits for the next word\n",
        "            logits = output[0, -1] / temperature\n",
        "\n",
        "            # Apply top-k filtering\n",
        "            top_k_logits, top_k_indices = torch.topk(logits, top_k)\n",
        "            probs = F.softmax(top_k_logits, dim=0)\n",
        "\n",
        "            # Sample from filtered distribution\n",
        "            next_word_idx = top_k_indices[torch.multinomial(probs, 1)].item()\n",
        "            next_word = vocab.idx2word[next_word_idx]\n",
        "\n",
        "            # Check for end conditions\n",
        "            if next_word_idx == vocab.word2idx['<END>']:\n",
        "                break\n",
        "\n",
        "            # Check for repetition and banned words\n",
        "            if len(generated) >= 2:\n",
        "                if next_word in recent_words[-2:]:\n",
        "                    consecutive_repeats += 1\n",
        "                    if consecutive_repeats > 1:\n",
        "                        continue\n",
        "                else:\n",
        "                    consecutive_repeats = 0\n",
        "\n",
        "                # Avoid overuse of common words\n",
        "                if next_word in banned_words and len(generated) < 3:\n",
        "                    continue\n",
        "\n",
        "            # Add word to generated sequence\n",
        "            generated.append(next_word)\n",
        "            recent_words.append(next_word)\n",
        "            if len(recent_words) > 5:  # Keep track of last 5 words\n",
        "                recent_words.pop(0)\n",
        "\n",
        "            # Update input sequence\n",
        "            current_seq = torch.cat([current_seq[:, 1:],\n",
        "                                   torch.LongTensor([[next_word_idx]])], dim=1)\n",
        "\n",
        "            # Add natural stopping points\n",
        "            if len(generated) > 10 and next_word in {'.', '!', '?'}:\n",
        "                break\n",
        "\n",
        "        # Post-process the generated text\n",
        "        response = ' '.join(generated)\n",
        "\n",
        "        # Clean up multiple spaces and punctuation\n",
        "        response = ' '.join(response.split())\n",
        "        response = response.replace(' .', '.').replace(' !', '!').replace(' ?', '?')\n",
        "\n",
        "        # Ensure proper capitalization\n",
        "        response = response.capitalize()\n",
        "\n",
        "        return response if response else \"I'll help you with that. What specific issue are you experiencing?\""
      ],
      "metadata": {
        "id": "pt4o0YHp9mJT"
      },
      "execution_count": 99,
      "outputs": []
    },
    {
      "cell_type": "code",
      "source": [
        "# Test with different prompts and temperatures\n",
        "test_cases = [\n",
        "    (\"hi i need help\", 0.6),\n",
        "    (\"my internet is not working\", 0.7),\n",
        "    (\"can you assist me\", 0.8),\n",
        "    (\"how do i configure my router\", 0.7),\n",
        "    (\"getting error message\", 0.6)\n",
        "]\n",
        "\n",
        "print(\"Testing improved generation:\")\n",
        "print(\"-\" * 50)\n",
        "for seed, temp in test_cases:\n",
        "    generated = improved_generate_text(model, agent_vocab, seed,\n",
        "                                    temperature=temp,\n",
        "                                    top_k=5)\n",
        "    print(f\"\\nInput: {seed}\")\n",
        "    print(f\"Generated (temp={temp}): {generated}\")"
      ],
      "metadata": {
        "colab": {
          "base_uri": "https://localhost:8080/"
        },
        "id": "90bNS-YQ89gW",
        "outputId": "0fe01d4a-af66-4b35-c337-1fc4093ef271"
      },
      "execution_count": 100,
      "outputs": [
        {
          "output_type": "stream",
          "name": "stdout",
          "text": [
            "Testing improved generation:\n",
            "--------------------------------------------------\n",
            "\n",
            "Input: hi i need help\n",
            "Generated (temp=0.6): You your any this happening changes on all check your network together together you contacting restarting your device off and on again to your technical concerns you try to to\n",
            "\n",
            "Input: my internet is not working\n",
            "Generated (temp=0.7): To you\n",
            "\n",
            "Input: can you assist me\n",
            "Generated (temp=0.8): To your a diagnostic should restored now to help your a diagnostic be restored with your settings should should restored now now to your device on should be thanks for\n",
            "\n",
            "Input: how do i configure my router\n",
            "Generated (temp=0.7): With to technical\n",
            "\n",
            "Input: getting error message\n",
            "Generated (temp=0.6): You try connecting to a diagnostic now your device on all devices device on again on to with your telecom should be try for to support how can you help\n"
          ]
        }
      ]
    },
    {
      "cell_type": "code",
      "source": [
        "# Test with common support scenarios\n",
        "support_scenarios = [\n",
        "    \"my connection is slow\",\n",
        "    \"need to reset password\",\n",
        "    \"billing question about my account\",\n",
        "    \"service outage in my area\",\n",
        "    \"upgrade my plan\"\n",
        "]\n",
        "\n",
        "print(\"\\nTesting common support scenarios:\")\n",
        "print(\"-\" * 50)\n",
        "for scenario in support_scenarios:\n",
        "    response = improved_generate_text(model, agent_vocab, scenario,\n",
        "                                   temperature=0.7,\n",
        "                                   top_k=5)\n",
        "    print(f\"\\nCustomer: {scenario}\")\n",
        "    print(f\"Agent: {response}\")"
      ],
      "metadata": {
        "colab": {
          "base_uri": "https://localhost:8080/"
        },
        "id": "Ygu7u7ag9Spo",
        "outputId": "9b3f9da3-93b9-4222-9315-4a2472c31d80"
      },
      "execution_count": 101,
      "outputs": [
        {
          "output_type": "stream",
          "name": "stdout",
          "text": [
            "\n",
            "Testing common support scenarios:\n",
            "--------------------------------------------------\n",
            "\n",
            "Customer: my connection is slow\n",
            "Agent: To you on connecting what happens telecom you try connecting to a different your devices service be restored now to your device service should be now now to your device\n",
            "\n",
            "Customer: need to reset password\n",
            "Agent: To support how can i help you with your devices status should restored connecting try to a different network now to our support how can i help you again to\n",
            "\n",
            "Customer: billing question about my account\n",
            "Agent: To for on our technical how i you with your technical off status please now your device off and on again again to you with your technical on\n",
            "\n",
            "Customer: service outage in my area\n",
            "Agent: To to help you try connecting to a different network\n",
            "\n",
            "Customer: upgrade my plan\n",
            "Agent: To for our support how may i i a help you for restarting your your service should should restored im here to diagnostic try connecting here to our help you\n"
          ]
        }
      ]
    },
    {
      "cell_type": "markdown",
      "source": [
        "# Conclusion\n",
        "\n",
        "## Training Performance\n",
        "\n",
        "- **Loss Curve**:\n",
        "  - Showed good convergence, decreasing from ~5.0 to ~0.3 over 50 epochs.\n",
        "  - The model successfully learned to minimize the training loss.\n",
        "  - The smooth downward trend indicates stable learning.\n",
        "\n",
        "---\n",
        "\n",
        "## Current Limitations\n",
        "\n",
        "### Text Generation Quality:\n",
        "- **Repetition**: Output shows significant repetition of common phrases (e.g., \"to your\", \"should be\").\n",
        "- **Coherence**: Limited coherence in longer responses.\n",
        "- **Repetitive Patterns**: Tendency to fall into repetitive patterns.\n",
        "- **Context Maintenance**: Poor handling of context.\n",
        "\n",
        "### Response Structure:\n",
        "- **Incomplete Sentences**: Responses are often not fully formed.\n",
        "- **Grammatical Issues**: Inconsistent grammatical structure.\n",
        "- **Domain-Specific Responses**: Limited ability to generate technical, domain-specific answers.\n",
        "\n",
        "---\n",
        "\n",
        "## Recommendations for Improvement\n",
        "\n",
        "### Model Architecture:\n",
        "- Implement **attention mechanisms** to better maintain context.\n",
        "- Add a **pointer-generator network** for handling technical terms.\n",
        "- Consider using a **transformer-based architecture** for improved sequence handling.\n",
        "\n",
        "### Training Data:\n",
        "- Expand the dataset with more diverse customer support conversations.\n",
        "- Include **structured templates** for common support scenarios.\n",
        "- Add **domain-specific technical vocabulary** to enhance the model's language capacity.\n",
        "\n",
        "### Generation Strategy:\n",
        "- Use **beam search** instead of greedy sampling for better response quality.\n",
        "- Add **grammar checking** as a post-processing step.\n",
        "- Develop **template-guided generation** for frequently occurring support scenarios.\n"
      ],
      "metadata": {
        "id": "yEKmuuJX-P5y"
      }
    },
    {
      "cell_type": "code",
      "source": [],
      "metadata": {
        "id": "Q07pzw3d92m6"
      },
      "execution_count": null,
      "outputs": []
    }
  ]
}